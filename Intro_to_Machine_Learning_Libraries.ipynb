{
  "nbformat": 4,
  "nbformat_minor": 0,
  "metadata": {
    "colab": {
      "provenance": [],
      "authorship_tag": "ABX9TyNbySHU5ytFnW1ZCzvKHp9U",
      "include_colab_link": true
    },
    "kernelspec": {
      "name": "python3",
      "display_name": "Python 3"
    },
    "language_info": {
      "name": "python"
    }
  },
  "cells": [
    {
      "cell_type": "markdown",
      "metadata": {
        "id": "view-in-github",
        "colab_type": "text"
      },
      "source": [
        "<a href=\"https://colab.research.google.com/github/saadkhalidabbasi/Pandas-Notes/blob/main/Intro_to_Machine_Learning_Libraries.ipynb\" target=\"_parent\"><img src=\"https://colab.research.google.com/assets/colab-badge.svg\" alt=\"Open In Colab\"/></a>"
      ]
    },
    {
      "cell_type": "markdown",
      "source": [
        "# **Introduction to Machine Learning Libraries: A Beginner's Guide**\n",
        "Machine learning has revolutionized the way we handle and analyze data, enabling us to extract valuable insights and make data-driven decisions. Central to this field are machine learning libraries, which provide tools and algorithms to build, train, and evaluate machine learning models."
      ],
      "metadata": {
        "id": "rSuOOXgdFEQO"
      }
    },
    {
      "cell_type": "markdown",
      "source": [
        "## **Popular Machine Learning Libraries**\n",
        "\n",
        "\n",
        "1.   Pandas\n",
        "2.   Numpy\n",
        "3.   Seaborn\n",
        "4.   Sciki-Learn\n",
        "\n",
        "In this whole course , our focus will be on **Pandas Library** which is used for data manipulation and analysis.\n",
        "\n",
        "We will start **Pandas** from very basic and will go all along to the advanced level.\n",
        "\n",
        "\n",
        "\n"
      ],
      "metadata": {
        "id": "ivRiDSWQFTcB"
      }
    },
    {
      "cell_type": "markdown",
      "source": [
        "# **Why Pandas?**\n",
        "There are tons of reasons why pandas are the way to go, like…\n",
        "\n",
        "Open Source\n",
        "\n",
        "Easy to Learn\n",
        "\n",
        "Great Community\n",
        "\n",
        "Built on Top of Numpy\n",
        "\n",
        "Easy to Analyze and pre-process data in it\n",
        "\n",
        "Built-in Data Visualization\n",
        "\n",
        "A lot of Built-in functions to help in Exploratory Data Analysis.\n",
        "\n",
        "Built-in support for CSV, SQL, HTML, JSON, pickle, excel, clipboard and a lot more\n"
      ],
      "metadata": {
        "id": "-AffaaFKG4nR"
      }
    }
  ]
}