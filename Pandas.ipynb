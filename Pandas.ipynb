{
  "nbformat": 4,
  "nbformat_minor": 0,
  "metadata": {
    "colab": {
      "provenance": [],
      "toc_visible": true,
      "include_colab_link": true
    },
    "kernelspec": {
      "name": "python3",
      "display_name": "Python 3"
    },
    "language_info": {
      "name": "python"
    }
  },
  "cells": [
    {
      "cell_type": "markdown",
      "metadata": {
        "id": "view-in-github",
        "colab_type": "text"
      },
      "source": [
        "<a href=\"https://colab.research.google.com/github/saadkhalidabbasi/Pandas-Notes/blob/main/Pandas.ipynb\" target=\"_parent\"><img src=\"https://colab.research.google.com/assets/colab-badge.svg\" alt=\"Open In Colab\"/></a>"
      ]
    },
    {
      "cell_type": "markdown",
      "source": [
        "# **Pandas Table of Content**"
      ],
      "metadata": {
        "id": "0soBWzZi8rY9"
      }
    },
    {
      "cell_type": "markdown",
      "source": [
        "1.   📚 *_[Installing Pandas](#installing_pandas)_*\n",
        "2.   📚 *_[Importing Pandas](#importing_pandas)_*\n",
        "3.   📚 *_[Pandas Data Structure](#pandas_data_structure)_*\n",
        "4.   📚 *_[Data Preparation using Pandas](#data_frame_functions)_*\n",
        "5.   📚 *_[Data Visualization using Pandas](#data_visualization)_*"
      ],
      "metadata": {
        "id": "ZnxedzjX85Ak"
      }
    },
    {
      "cell_type": "markdown",
      "source": [
        "#  **Pandas(Beginer Level)**"
      ],
      "metadata": {
        "id": "8FcBowAEZN5e"
      }
    },
    {
      "cell_type": "markdown",
      "source": [
        "#**Section-1- Installing Pandas**"
      ],
      "metadata": {
        "id": "r_gREz_oZeB6"
      }
    },
    {
      "cell_type": "code",
      "source": [
        "conda install pandas"
      ],
      "metadata": {
        "id": "F9_SDT9dZnsY"
      },
      "execution_count": null,
      "outputs": []
    },
    {
      "cell_type": "code",
      "source": [
        "!pip install pandas"
      ],
      "metadata": {
        "id": "McLSSQsSZrFY"
      },
      "execution_count": null,
      "outputs": []
    },
    {
      "cell_type": "markdown",
      "source": [
        "# **Section-2-Importing Pandas**"
      ],
      "metadata": {
        "id": "81yvE49DZ1Zj"
      }
    },
    {
      "cell_type": "code",
      "source": [
        "import pandas as pd\n",
        "import numpy as np"
      ],
      "metadata": {
        "id": "UtS8O87jaIww"
      },
      "execution_count": null,
      "outputs": []
    },
    {
      "cell_type": "markdown",
      "source": [
        "# **Section-3- Pandas Data Structures**\n"
      ],
      "metadata": {
        "id": "CdpSUCjmcb93"
      }
    },
    {
      "cell_type": "markdown",
      "source": [
        "**Pandas** provides **two types** of classes for handling data.\n",
        "\n",
        "**1-Series:**\n",
        "\n",
        "A **one-dimensional labeled array** holding data of any type\n",
        "such as integers, strings, Python objects etc.\n",
        "\n",
        "**2-DataFrame:**\n",
        "\n",
        " A **two-dimensional data structure** that holds data like a two-dimension array or a table with **rows and columns.**"
      ],
      "metadata": {
        "id": "syXzjc1wBSQr"
      }
    },
    {
      "cell_type": "markdown",
      "source": [
        "## **3.1- Series in Pandas**"
      ],
      "metadata": {
        "id": "DMZqc4-TcmDt"
      }
    },
    {
      "cell_type": "markdown",
      "source": [
        "### **Basic Syntax**"
      ],
      "metadata": {
        "id": "pKskxNveF1ne"
      }
    },
    {
      "cell_type": "code",
      "source": [
        "newSeries = pd.Series(data , index)"
      ],
      "metadata": {
        "id": "Vpp4lxljcwSt"
      },
      "execution_count": null,
      "outputs": []
    },
    {
      "cell_type": "markdown",
      "source": [
        "\n",
        "\n",
        "###**Let’s build a series from Python List:**\n",
        "\n"
      ],
      "metadata": {
        "id": "70aC5mvmdFLc"
      }
    },
    {
      "cell_type": "code",
      "source": [
        "mylist = ['Ahmad','Machine Learning', 20, 'Pakistan']\n",
        "labels = ['Name', 'Career', 'Age', 'Country']\n",
        "newSeries = pd.Series(mylist,labels)\n",
        "print(newSeries)"
      ],
      "metadata": {
        "colab": {
          "base_uri": "https://localhost:8080/"
        },
        "id": "-wCCa-oHdQqs",
        "outputId": "7345c469-3bab-49b5-d6b7-cffef89d00f9"
      },
      "execution_count": null,
      "outputs": [
        {
          "output_type": "stream",
          "name": "stdout",
          "text": [
            "Name                  Ahmad\n",
            "Career     Machine Learning\n",
            "Age                      20\n",
            "Country            Pakistan\n",
            "dtype: object\n"
          ]
        }
      ]
    },
    {
      "cell_type": "markdown",
      "source": [
        "It is not necessary to add an index in a pandas Series. In that case, it will automatically start index from 0."
      ],
      "metadata": {
        "id": "SclW2Vx8durV"
      }
    },
    {
      "cell_type": "code",
      "source": [
        "mylist = ['Ahmad','Machine Learning', 20, 'Pakistan']\n",
        "newSeries = pd.Series(mylist)\n",
        "print(newSeries)"
      ],
      "metadata": {
        "id": "5ZccTmPAdmZk"
      },
      "execution_count": null,
      "outputs": []
    },
    {
      "cell_type": "markdown",
      "source": [
        "### **Create a Series using a Python Dictionary**"
      ],
      "metadata": {
        "id": "V4I8ICSMd2YW"
      }
    },
    {
      "cell_type": "code",
      "source": [
        "myDict = {'Name': 'Ahmad',\n",
        "         'Career': 'Machine Learning',\n",
        "         'Age': 20,\n",
        "          'Country': 'Pakistan'}\n",
        "mySeries = pd.Series(myDict)\n",
        "print(mySeries)"
      ],
      "metadata": {
        "colab": {
          "base_uri": "https://localhost:8080/"
        },
        "id": "u7O8w0ped-9V",
        "outputId": "916d22c2-a503-456b-b3e5-85eb6e535ba2"
      },
      "execution_count": null,
      "outputs": [
        {
          "output_type": "stream",
          "name": "stdout",
          "text": [
            "Name                  Ahmad\n",
            "Career     Machine Learning\n",
            "Age                      20\n",
            "Country            Pakistan\n",
            "dtype: object\n"
          ]
        }
      ]
    },
    {
      "cell_type": "markdown",
      "source": [
        "### **Create a Series From scalar value**"
      ],
      "metadata": {
        "id": "kTbRu8ikGpBi"
      }
    },
    {
      "cell_type": "code",
      "source": [
        "pd.Series(5.0, index=[\"a\", \"b\", \"c\", \"d\", \"e\"])\n",
        "Out[12]:\n",
        "a    5.0\n",
        "b    5.0\n",
        "c    5.0\n",
        "d    5.0\n",
        "e    5.0\n",
        "dtype: float64"
      ],
      "metadata": {
        "id": "kif4wLd2GyzA"
      },
      "execution_count": null,
      "outputs": []
    },
    {
      "cell_type": "markdown",
      "source": [
        "###**Accessing data from Series**\n"
      ],
      "metadata": {
        "id": "G4WWSNfUeHy0"
      }
    },
    {
      "cell_type": "code",
      "source": [
        "seriesName['IndexName']"
      ],
      "metadata": {
        "id": "OPD613P-eNCL"
      },
      "execution_count": null,
      "outputs": []
    },
    {
      "cell_type": "code",
      "source": [
        "print(mySeries['Name'])\n",
        "print(mySeries['Age'])\n",
        "print(mySeries['Career'])"
      ],
      "metadata": {
        "id": "puzHiEo9eN-7"
      },
      "execution_count": null,
      "outputs": []
    },
    {
      "cell_type": "markdown",
      "source": [
        "### **Series as ND Array**"
      ],
      "metadata": {
        "id": "5VkjcbNOYPGp"
      }
    },
    {
      "cell_type": "markdown",
      "source": [
        "**Series** acts very similarly to a **ndarray** and is a valid argument to most **NumPy functions**."
      ],
      "metadata": {
        "id": "MQF3SCHpYd7s"
      }
    },
    {
      "cell_type": "code",
      "source": [
        "import pandas as pd\n",
        "\n",
        "# Create a Pandas Series\n",
        "s = pd.Series([10, 20, 30, 40], index=['a', 'b', 'c', 'd'])\n",
        "\n",
        "# Accessing elements using index labels\n",
        "print(\"Element at index 'b':\", s['b'])  # Output: 20\n",
        "\n",
        "# Arithmetic operation\n",
        "s_double = s * 2\n",
        "print(\"\\nSeries after doubling each element:\")\n",
        "print(s_double)\n",
        "\n",
        "# NumPy-like operations\n",
        "import numpy as np\n",
        "arr = np.sqrt(s)\n",
        "print(\"\\nSquare root of each element (NumPy array):\")\n",
        "print(arr)\n",
        "\n",
        "# Adding two Series based on index labels\n",
        "s2 = pd.Series([1, 2, 3, 4], index=['a', 'b', 'e', 'f'])\n",
        "sum_series = s + s2\n",
        "print(\"\\nSum of two Series (aligned based on index labels):\")\n",
        "print(sum_series)\n"
      ],
      "metadata": {
        "id": "2Lg8jYP8YZdz"
      },
      "execution_count": null,
      "outputs": []
    },
    {
      "cell_type": "markdown",
      "source": [
        "### **Basic Operations on Pandas Series**\n"
      ],
      "metadata": {
        "id": "pklm2nU4eZxc"
      }
    },
    {
      "cell_type": "code",
      "source": [
        "newSeries = pd.Series([10,20,30,40],index=['LONDON','NEWYORK','Washington','Manchester'])\n",
        "newSeries1 = pd.Series([10,20,35,46],index=['LONDON','NEWYORK','Istanbul','Karachi'])\n",
        "print(newSeries,newSeries1,sep='\\n\\n')"
      ],
      "metadata": {
        "id": "dgp8QWUIegEk"
      },
      "execution_count": null,
      "outputs": []
    },
    {
      "cell_type": "markdown",
      "source": [
        "Basic Arithmetic operations include +-*/ operations. These are done over-index, so let’s perform them."
      ],
      "metadata": {
        "id": "BEp-hGbjetHH"
      }
    },
    {
      "cell_type": "code",
      "source": [
        "newSeries + newSeries1"
      ],
      "metadata": {
        "colab": {
          "base_uri": "https://localhost:8080/"
        },
        "id": "r4JAuVsheo3s",
        "outputId": "0a554be5-100a-465c-9590-3d7282e2c2d0"
      },
      "execution_count": null,
      "outputs": [
        {
          "output_type": "execute_result",
          "data": {
            "text/plain": [
              "Istanbul       NaN\n",
              "Karachi        NaN\n",
              "LONDON        20.0\n",
              "Manchester     NaN\n",
              "NEWYORK       40.0\n",
              "Washington     NaN\n",
              "dtype: float64"
            ]
          },
          "metadata": {},
          "execution_count": 8
        }
      ]
    },
    {
      "cell_type": "markdown",
      "source": [
        "Here we can see that since London and NEWYORK index are present in both Series, so it has added the value of both and output of rest is NaN (Not a number)"
      ],
      "metadata": {
        "id": "2IhTAvBve2q7"
      }
    },
    {
      "cell_type": "code",
      "source": [
        "newSeries * newSeries1"
      ],
      "metadata": {
        "id": "6k0TtEQKgNjQ"
      },
      "execution_count": null,
      "outputs": []
    },
    {
      "cell_type": "code",
      "source": [
        "newSeries / newSeries1"
      ],
      "metadata": {
        "id": "CNCwA3zDgR7q"
      },
      "execution_count": null,
      "outputs": []
    },
    {
      "cell_type": "markdown",
      "source": [
        "**Element Wise Operations/Broadcasting**\n"
      ],
      "metadata": {
        "id": "dnsF3wMUg0-t"
      }
    },
    {
      "cell_type": "code",
      "source": [
        "newSeries + 5"
      ],
      "metadata": {
        "colab": {
          "base_uri": "https://localhost:8080/"
        },
        "id": "jOp8JrauhAyD",
        "outputId": "0db5cf4c-b087-4e0a-8fc6-ab26ed2249e6"
      },
      "execution_count": null,
      "outputs": [
        {
          "output_type": "execute_result",
          "data": {
            "text/plain": [
              "LONDON        15\n",
              "NEWYORK       25\n",
              "Washington    35\n",
              "Manchester    45\n",
              "dtype: int64"
            ]
          },
          "metadata": {},
          "execution_count": 11
        }
      ]
    },
    {
      "cell_type": "code",
      "source": [
        "newSeries ** 1/2"
      ],
      "metadata": {
        "id": "FovpUsgihYkU"
      },
      "execution_count": null,
      "outputs": []
    },
    {
      "cell_type": "markdown",
      "source": [
        "## **3.2-DataFrame in Pandas**"
      ],
      "metadata": {
        "id": "TycEViJnjw4e"
      }
    },
    {
      "cell_type": "markdown",
      "source": [
        "**Ways to create Data Frame are:**\n",
        "\n",
        "\n"
      ],
      "metadata": {
        "id": "6YelgeNXkBQN"
      }
    },
    {
      "cell_type": "markdown",
      "source": [
        "###  **DataFrame Creation using Python Dictionary**\n"
      ],
      "metadata": {
        "id": "tD1TZFnlkHgd"
      }
    },
    {
      "cell_type": "code",
      "source": [
        "df1 = {\"Name\":[\"Ahmad\",\"Ali\",'Ismail',\"John\"],\"Age\":  [20,21,19,17],\"Height\":[5.1,5.6,6.1,5.7]}"
      ],
      "metadata": {
        "id": "SzsE9gBGkMUd"
      },
      "execution_count": null,
      "outputs": []
    },
    {
      "cell_type": "code",
      "source": [
        "df1 = pd.DataFrame(df1)\n",
        "df1"
      ],
      "metadata": {
        "colab": {
          "base_uri": "https://localhost:8080/",
          "height": 175
        },
        "id": "tZf8qB4XkRGv",
        "outputId": "4e75a2e7-48ea-40da-e45f-b5da2fcb3996"
      },
      "execution_count": null,
      "outputs": [
        {
          "output_type": "execute_result",
          "data": {
            "text/plain": [
              "     Name  Age  Height\n",
              "0   Ahmad   20     5.1\n",
              "1     Ali   21     5.6\n",
              "2  Ismail   19     6.1\n",
              "3    John   17     5.7"
            ],
            "text/html": [
              "\n",
              "  <div id=\"df-b3a14962-945b-4e8b-a108-8f10545bd5dc\">\n",
              "    <div class=\"colab-df-container\">\n",
              "      <div>\n",
              "<style scoped>\n",
              "    .dataframe tbody tr th:only-of-type {\n",
              "        vertical-align: middle;\n",
              "    }\n",
              "\n",
              "    .dataframe tbody tr th {\n",
              "        vertical-align: top;\n",
              "    }\n",
              "\n",
              "    .dataframe thead th {\n",
              "        text-align: right;\n",
              "    }\n",
              "</style>\n",
              "<table border=\"1\" class=\"dataframe\">\n",
              "  <thead>\n",
              "    <tr style=\"text-align: right;\">\n",
              "      <th></th>\n",
              "      <th>Name</th>\n",
              "      <th>Age</th>\n",
              "      <th>Height</th>\n",
              "    </tr>\n",
              "  </thead>\n",
              "  <tbody>\n",
              "    <tr>\n",
              "      <th>0</th>\n",
              "      <td>Ahmad</td>\n",
              "      <td>20</td>\n",
              "      <td>5.1</td>\n",
              "    </tr>\n",
              "    <tr>\n",
              "      <th>1</th>\n",
              "      <td>Ali</td>\n",
              "      <td>21</td>\n",
              "      <td>5.6</td>\n",
              "    </tr>\n",
              "    <tr>\n",
              "      <th>2</th>\n",
              "      <td>Ismail</td>\n",
              "      <td>19</td>\n",
              "      <td>6.1</td>\n",
              "    </tr>\n",
              "    <tr>\n",
              "      <th>3</th>\n",
              "      <td>John</td>\n",
              "      <td>17</td>\n",
              "      <td>5.7</td>\n",
              "    </tr>\n",
              "  </tbody>\n",
              "</table>\n",
              "</div>\n",
              "      <button class=\"colab-df-convert\" onclick=\"convertToInteractive('df-b3a14962-945b-4e8b-a108-8f10545bd5dc')\"\n",
              "              title=\"Convert this dataframe to an interactive table.\"\n",
              "              style=\"display:none;\">\n",
              "        \n",
              "  <svg xmlns=\"http://www.w3.org/2000/svg\" height=\"24px\"viewBox=\"0 0 24 24\"\n",
              "       width=\"24px\">\n",
              "    <path d=\"M0 0h24v24H0V0z\" fill=\"none\"/>\n",
              "    <path d=\"M18.56 5.44l.94 2.06.94-2.06 2.06-.94-2.06-.94-.94-2.06-.94 2.06-2.06.94zm-11 1L8.5 8.5l.94-2.06 2.06-.94-2.06-.94L8.5 2.5l-.94 2.06-2.06.94zm10 10l.94 2.06.94-2.06 2.06-.94-2.06-.94-.94-2.06-.94 2.06-2.06.94z\"/><path d=\"M17.41 7.96l-1.37-1.37c-.4-.4-.92-.59-1.43-.59-.52 0-1.04.2-1.43.59L10.3 9.45l-7.72 7.72c-.78.78-.78 2.05 0 2.83L4 21.41c.39.39.9.59 1.41.59.51 0 1.02-.2 1.41-.59l7.78-7.78 2.81-2.81c.8-.78.8-2.07 0-2.86zM5.41 20L4 18.59l7.72-7.72 1.47 1.35L5.41 20z\"/>\n",
              "  </svg>\n",
              "      </button>\n",
              "      \n",
              "  <style>\n",
              "    .colab-df-container {\n",
              "      display:flex;\n",
              "      flex-wrap:wrap;\n",
              "      gap: 12px;\n",
              "    }\n",
              "\n",
              "    .colab-df-convert {\n",
              "      background-color: #E8F0FE;\n",
              "      border: none;\n",
              "      border-radius: 50%;\n",
              "      cursor: pointer;\n",
              "      display: none;\n",
              "      fill: #1967D2;\n",
              "      height: 32px;\n",
              "      padding: 0 0 0 0;\n",
              "      width: 32px;\n",
              "    }\n",
              "\n",
              "    .colab-df-convert:hover {\n",
              "      background-color: #E2EBFA;\n",
              "      box-shadow: 0px 1px 2px rgba(60, 64, 67, 0.3), 0px 1px 3px 1px rgba(60, 64, 67, 0.15);\n",
              "      fill: #174EA6;\n",
              "    }\n",
              "\n",
              "    [theme=dark] .colab-df-convert {\n",
              "      background-color: #3B4455;\n",
              "      fill: #D2E3FC;\n",
              "    }\n",
              "\n",
              "    [theme=dark] .colab-df-convert:hover {\n",
              "      background-color: #434B5C;\n",
              "      box-shadow: 0px 1px 3px 1px rgba(0, 0, 0, 0.15);\n",
              "      filter: drop-shadow(0px 1px 2px rgba(0, 0, 0, 0.3));\n",
              "      fill: #FFFFFF;\n",
              "    }\n",
              "  </style>\n",
              "\n",
              "      <script>\n",
              "        const buttonEl =\n",
              "          document.querySelector('#df-b3a14962-945b-4e8b-a108-8f10545bd5dc button.colab-df-convert');\n",
              "        buttonEl.style.display =\n",
              "          google.colab.kernel.accessAllowed ? 'block' : 'none';\n",
              "\n",
              "        async function convertToInteractive(key) {\n",
              "          const element = document.querySelector('#df-b3a14962-945b-4e8b-a108-8f10545bd5dc');\n",
              "          const dataTable =\n",
              "            await google.colab.kernel.invokeFunction('convertToInteractive',\n",
              "                                                     [key], {});\n",
              "          if (!dataTable) return;\n",
              "\n",
              "          const docLinkHtml = 'Like what you see? Visit the ' +\n",
              "            '<a target=\"_blank\" href=https://colab.research.google.com/notebooks/data_table.ipynb>data table notebook</a>'\n",
              "            + ' to learn more about interactive tables.';\n",
              "          element.innerHTML = '';\n",
              "          dataTable['output_type'] = 'display_data';\n",
              "          await google.colab.output.renderOutput(dataTable, element);\n",
              "          const docLink = document.createElement('div');\n",
              "          docLink.innerHTML = docLinkHtml;\n",
              "          element.appendChild(docLink);\n",
              "        }\n",
              "      </script>\n",
              "    </div>\n",
              "  </div>\n",
              "  "
            ]
          },
          "metadata": {},
          "execution_count": 17
        }
      ]
    },
    {
      "cell_type": "markdown",
      "source": [
        "**Getting Values from a Column**\n"
      ],
      "metadata": {
        "id": "azcIV9BEkZ8u"
      }
    },
    {
      "cell_type": "code",
      "source": [
        "df1['Age']\n",
        "#df1.columnname"
      ],
      "metadata": {
        "id": "cMMn1jy_kf7G"
      },
      "execution_count": null,
      "outputs": []
    },
    {
      "cell_type": "markdown",
      "source": [
        "Both of these syntaxes are correct, but we have to be careful about choosing one. If our column name has space in it, then definitely we can not use the 2nd method. We have to use the first method. We can only use the 2nd method when there is no space in the column name."
      ],
      "metadata": {
        "id": "qeVU1pgEkzYH"
      }
    },
    {
      "cell_type": "code",
      "source": [
        "df1.Name"
      ],
      "metadata": {
        "id": "PhiE1PeUk2ZH"
      },
      "execution_count": null,
      "outputs": []
    },
    {
      "cell_type": "markdown",
      "source": [
        "**Values of Multiple Columns**\n"
      ],
      "metadata": {
        "id": "_VPNy_vyk75U"
      }
    },
    {
      "cell_type": "code",
      "source": [
        "df1[[\"Name\",\"Age\"]]"
      ],
      "metadata": {
        "id": "tqI7IZ1Sk-3M"
      },
      "execution_count": null,
      "outputs": []
    },
    {
      "cell_type": "markdown",
      "source": [
        "### **DataFrame Creation using Numpy array**"
      ],
      "metadata": {
        "id": "EtjAbWA6cO7v"
      }
    },
    {
      "cell_type": "markdown",
      "source": [
        "Creating a **DataFrame** by passing a **NumPy array** with a datetime index using ```date_range()``` and labeled columns:"
      ],
      "metadata": {
        "id": "688W4V5nctkV"
      }
    },
    {
      "cell_type": "code",
      "source": [
        "dates = pd.date_range(\"20130101\", periods=6)\n",
        "dates\n"
      ],
      "metadata": {
        "colab": {
          "base_uri": "https://localhost:8080/"
        },
        "id": "AW8KCtRccnrQ",
        "outputId": "eaa8ed50-fcf3-48cd-8751-dae0404971c0"
      },
      "execution_count": null,
      "outputs": [
        {
          "output_type": "execute_result",
          "data": {
            "text/plain": [
              "DatetimeIndex(['2013-01-01', '2013-01-02', '2013-01-03', '2013-01-04',\n",
              "               '2013-01-05', '2013-01-06'],\n",
              "              dtype='datetime64[ns]', freq='D')"
            ]
          },
          "metadata": {},
          "execution_count": 3
        }
      ]
    },
    {
      "cell_type": "code",
      "source": [
        "df = pd.DataFrame(np.random.randn(6, 4), index=dates, columns=list(\"ABCD\"))\n",
        "df"
      ],
      "metadata": {
        "colab": {
          "base_uri": "https://localhost:8080/",
          "height": 238
        },
        "id": "Aw6lrfL2dK7d",
        "outputId": "a29ecaa2-04ba-4e06-e3e7-40f9d9cd628f"
      },
      "execution_count": null,
      "outputs": [
        {
          "output_type": "execute_result",
          "data": {
            "text/plain": [
              "                   A         B         C         D\n",
              "2013-01-01 -0.138796 -1.547302  0.360337 -1.125618\n",
              "2013-01-02  0.421786  0.570474  1.323669  0.522632\n",
              "2013-01-03 -1.546196  0.012753 -0.848985  0.768473\n",
              "2013-01-04  1.622146  0.297482 -0.681904  0.395183\n",
              "2013-01-05  0.310387  1.906540  0.784636  0.683254\n",
              "2013-01-06 -1.125103  0.898253  0.491815 -1.169045"
            ],
            "text/html": [
              "\n",
              "  <div id=\"df-98851dd1-06e9-4fd6-8a33-91a763aecf3a\" class=\"colab-df-container\">\n",
              "    <div>\n",
              "<style scoped>\n",
              "    .dataframe tbody tr th:only-of-type {\n",
              "        vertical-align: middle;\n",
              "    }\n",
              "\n",
              "    .dataframe tbody tr th {\n",
              "        vertical-align: top;\n",
              "    }\n",
              "\n",
              "    .dataframe thead th {\n",
              "        text-align: right;\n",
              "    }\n",
              "</style>\n",
              "<table border=\"1\" class=\"dataframe\">\n",
              "  <thead>\n",
              "    <tr style=\"text-align: right;\">\n",
              "      <th></th>\n",
              "      <th>A</th>\n",
              "      <th>B</th>\n",
              "      <th>C</th>\n",
              "      <th>D</th>\n",
              "    </tr>\n",
              "  </thead>\n",
              "  <tbody>\n",
              "    <tr>\n",
              "      <th>2013-01-01</th>\n",
              "      <td>-0.138796</td>\n",
              "      <td>-1.547302</td>\n",
              "      <td>0.360337</td>\n",
              "      <td>-1.125618</td>\n",
              "    </tr>\n",
              "    <tr>\n",
              "      <th>2013-01-02</th>\n",
              "      <td>0.421786</td>\n",
              "      <td>0.570474</td>\n",
              "      <td>1.323669</td>\n",
              "      <td>0.522632</td>\n",
              "    </tr>\n",
              "    <tr>\n",
              "      <th>2013-01-03</th>\n",
              "      <td>-1.546196</td>\n",
              "      <td>0.012753</td>\n",
              "      <td>-0.848985</td>\n",
              "      <td>0.768473</td>\n",
              "    </tr>\n",
              "    <tr>\n",
              "      <th>2013-01-04</th>\n",
              "      <td>1.622146</td>\n",
              "      <td>0.297482</td>\n",
              "      <td>-0.681904</td>\n",
              "      <td>0.395183</td>\n",
              "    </tr>\n",
              "    <tr>\n",
              "      <th>2013-01-05</th>\n",
              "      <td>0.310387</td>\n",
              "      <td>1.906540</td>\n",
              "      <td>0.784636</td>\n",
              "      <td>0.683254</td>\n",
              "    </tr>\n",
              "    <tr>\n",
              "      <th>2013-01-06</th>\n",
              "      <td>-1.125103</td>\n",
              "      <td>0.898253</td>\n",
              "      <td>0.491815</td>\n",
              "      <td>-1.169045</td>\n",
              "    </tr>\n",
              "  </tbody>\n",
              "</table>\n",
              "</div>\n",
              "    <div class=\"colab-df-buttons\">\n",
              "\n",
              "  <div class=\"colab-df-container\">\n",
              "    <button class=\"colab-df-convert\" onclick=\"convertToInteractive('df-98851dd1-06e9-4fd6-8a33-91a763aecf3a')\"\n",
              "            title=\"Convert this dataframe to an interactive table.\"\n",
              "            style=\"display:none;\">\n",
              "\n",
              "  <svg xmlns=\"http://www.w3.org/2000/svg\" height=\"24px\" viewBox=\"0 -960 960 960\">\n",
              "    <path d=\"M120-120v-720h720v720H120Zm60-500h600v-160H180v160Zm220 220h160v-160H400v160Zm0 220h160v-160H400v160ZM180-400h160v-160H180v160Zm440 0h160v-160H620v160ZM180-180h160v-160H180v160Zm440 0h160v-160H620v160Z\"/>\n",
              "  </svg>\n",
              "    </button>\n",
              "\n",
              "  <style>\n",
              "    .colab-df-container {\n",
              "      display:flex;\n",
              "      gap: 12px;\n",
              "    }\n",
              "\n",
              "    .colab-df-convert {\n",
              "      background-color: #E8F0FE;\n",
              "      border: none;\n",
              "      border-radius: 50%;\n",
              "      cursor: pointer;\n",
              "      display: none;\n",
              "      fill: #1967D2;\n",
              "      height: 32px;\n",
              "      padding: 0 0 0 0;\n",
              "      width: 32px;\n",
              "    }\n",
              "\n",
              "    .colab-df-convert:hover {\n",
              "      background-color: #E2EBFA;\n",
              "      box-shadow: 0px 1px 2px rgba(60, 64, 67, 0.3), 0px 1px 3px 1px rgba(60, 64, 67, 0.15);\n",
              "      fill: #174EA6;\n",
              "    }\n",
              "\n",
              "    .colab-df-buttons div {\n",
              "      margin-bottom: 4px;\n",
              "    }\n",
              "\n",
              "    [theme=dark] .colab-df-convert {\n",
              "      background-color: #3B4455;\n",
              "      fill: #D2E3FC;\n",
              "    }\n",
              "\n",
              "    [theme=dark] .colab-df-convert:hover {\n",
              "      background-color: #434B5C;\n",
              "      box-shadow: 0px 1px 3px 1px rgba(0, 0, 0, 0.15);\n",
              "      filter: drop-shadow(0px 1px 2px rgba(0, 0, 0, 0.3));\n",
              "      fill: #FFFFFF;\n",
              "    }\n",
              "  </style>\n",
              "\n",
              "    <script>\n",
              "      const buttonEl =\n",
              "        document.querySelector('#df-98851dd1-06e9-4fd6-8a33-91a763aecf3a button.colab-df-convert');\n",
              "      buttonEl.style.display =\n",
              "        google.colab.kernel.accessAllowed ? 'block' : 'none';\n",
              "\n",
              "      async function convertToInteractive(key) {\n",
              "        const element = document.querySelector('#df-98851dd1-06e9-4fd6-8a33-91a763aecf3a');\n",
              "        const dataTable =\n",
              "          await google.colab.kernel.invokeFunction('convertToInteractive',\n",
              "                                                    [key], {});\n",
              "        if (!dataTable) return;\n",
              "\n",
              "        const docLinkHtml = 'Like what you see? Visit the ' +\n",
              "          '<a target=\"_blank\" href=https://colab.research.google.com/notebooks/data_table.ipynb>data table notebook</a>'\n",
              "          + ' to learn more about interactive tables.';\n",
              "        element.innerHTML = '';\n",
              "        dataTable['output_type'] = 'display_data';\n",
              "        await google.colab.output.renderOutput(dataTable, element);\n",
              "        const docLink = document.createElement('div');\n",
              "        docLink.innerHTML = docLinkHtml;\n",
              "        element.appendChild(docLink);\n",
              "      }\n",
              "    </script>\n",
              "  </div>\n",
              "\n",
              "\n",
              "<div id=\"df-22a94ca6-479e-4209-b791-242ff7e458a1\">\n",
              "  <button class=\"colab-df-quickchart\" onclick=\"quickchart('df-22a94ca6-479e-4209-b791-242ff7e458a1')\"\n",
              "            title=\"Suggest charts\"\n",
              "            style=\"display:none;\">\n",
              "\n",
              "<svg xmlns=\"http://www.w3.org/2000/svg\" height=\"24px\"viewBox=\"0 0 24 24\"\n",
              "     width=\"24px\">\n",
              "    <g>\n",
              "        <path d=\"M19 3H5c-1.1 0-2 .9-2 2v14c0 1.1.9 2 2 2h14c1.1 0 2-.9 2-2V5c0-1.1-.9-2-2-2zM9 17H7v-7h2v7zm4 0h-2V7h2v10zm4 0h-2v-4h2v4z\"/>\n",
              "    </g>\n",
              "</svg>\n",
              "  </button>\n",
              "\n",
              "<style>\n",
              "  .colab-df-quickchart {\n",
              "      --bg-color: #E8F0FE;\n",
              "      --fill-color: #1967D2;\n",
              "      --hover-bg-color: #E2EBFA;\n",
              "      --hover-fill-color: #174EA6;\n",
              "      --disabled-fill-color: #AAA;\n",
              "      --disabled-bg-color: #DDD;\n",
              "  }\n",
              "\n",
              "  [theme=dark] .colab-df-quickchart {\n",
              "      --bg-color: #3B4455;\n",
              "      --fill-color: #D2E3FC;\n",
              "      --hover-bg-color: #434B5C;\n",
              "      --hover-fill-color: #FFFFFF;\n",
              "      --disabled-bg-color: #3B4455;\n",
              "      --disabled-fill-color: #666;\n",
              "  }\n",
              "\n",
              "  .colab-df-quickchart {\n",
              "    background-color: var(--bg-color);\n",
              "    border: none;\n",
              "    border-radius: 50%;\n",
              "    cursor: pointer;\n",
              "    display: none;\n",
              "    fill: var(--fill-color);\n",
              "    height: 32px;\n",
              "    padding: 0;\n",
              "    width: 32px;\n",
              "  }\n",
              "\n",
              "  .colab-df-quickchart:hover {\n",
              "    background-color: var(--hover-bg-color);\n",
              "    box-shadow: 0 1px 2px rgba(60, 64, 67, 0.3), 0 1px 3px 1px rgba(60, 64, 67, 0.15);\n",
              "    fill: var(--button-hover-fill-color);\n",
              "  }\n",
              "\n",
              "  .colab-df-quickchart-complete:disabled,\n",
              "  .colab-df-quickchart-complete:disabled:hover {\n",
              "    background-color: var(--disabled-bg-color);\n",
              "    fill: var(--disabled-fill-color);\n",
              "    box-shadow: none;\n",
              "  }\n",
              "\n",
              "  .colab-df-spinner {\n",
              "    border: 2px solid var(--fill-color);\n",
              "    border-color: transparent;\n",
              "    border-bottom-color: var(--fill-color);\n",
              "    animation:\n",
              "      spin 1s steps(1) infinite;\n",
              "  }\n",
              "\n",
              "  @keyframes spin {\n",
              "    0% {\n",
              "      border-color: transparent;\n",
              "      border-bottom-color: var(--fill-color);\n",
              "      border-left-color: var(--fill-color);\n",
              "    }\n",
              "    20% {\n",
              "      border-color: transparent;\n",
              "      border-left-color: var(--fill-color);\n",
              "      border-top-color: var(--fill-color);\n",
              "    }\n",
              "    30% {\n",
              "      border-color: transparent;\n",
              "      border-left-color: var(--fill-color);\n",
              "      border-top-color: var(--fill-color);\n",
              "      border-right-color: var(--fill-color);\n",
              "    }\n",
              "    40% {\n",
              "      border-color: transparent;\n",
              "      border-right-color: var(--fill-color);\n",
              "      border-top-color: var(--fill-color);\n",
              "    }\n",
              "    60% {\n",
              "      border-color: transparent;\n",
              "      border-right-color: var(--fill-color);\n",
              "    }\n",
              "    80% {\n",
              "      border-color: transparent;\n",
              "      border-right-color: var(--fill-color);\n",
              "      border-bottom-color: var(--fill-color);\n",
              "    }\n",
              "    90% {\n",
              "      border-color: transparent;\n",
              "      border-bottom-color: var(--fill-color);\n",
              "    }\n",
              "  }\n",
              "</style>\n",
              "\n",
              "  <script>\n",
              "    async function quickchart(key) {\n",
              "      const quickchartButtonEl =\n",
              "        document.querySelector('#' + key + ' button');\n",
              "      quickchartButtonEl.disabled = true;  // To prevent multiple clicks.\n",
              "      quickchartButtonEl.classList.add('colab-df-spinner');\n",
              "      try {\n",
              "        const charts = await google.colab.kernel.invokeFunction(\n",
              "            'suggestCharts', [key], {});\n",
              "      } catch (error) {\n",
              "        console.error('Error during call to suggestCharts:', error);\n",
              "      }\n",
              "      quickchartButtonEl.classList.remove('colab-df-spinner');\n",
              "      quickchartButtonEl.classList.add('colab-df-quickchart-complete');\n",
              "    }\n",
              "    (() => {\n",
              "      let quickchartButtonEl =\n",
              "        document.querySelector('#df-22a94ca6-479e-4209-b791-242ff7e458a1 button');\n",
              "      quickchartButtonEl.style.display =\n",
              "        google.colab.kernel.accessAllowed ? 'block' : 'none';\n",
              "    })();\n",
              "  </script>\n",
              "</div>\n",
              "\n",
              "  <div id=\"id_a27539e2-f670-4980-b0a5-b1c135728875\">\n",
              "    <style>\n",
              "      .colab-df-generate {\n",
              "        background-color: #E8F0FE;\n",
              "        border: none;\n",
              "        border-radius: 50%;\n",
              "        cursor: pointer;\n",
              "        display: none;\n",
              "        fill: #1967D2;\n",
              "        height: 32px;\n",
              "        padding: 0 0 0 0;\n",
              "        width: 32px;\n",
              "      }\n",
              "\n",
              "      .colab-df-generate:hover {\n",
              "        background-color: #E2EBFA;\n",
              "        box-shadow: 0px 1px 2px rgba(60, 64, 67, 0.3), 0px 1px 3px 1px rgba(60, 64, 67, 0.15);\n",
              "        fill: #174EA6;\n",
              "      }\n",
              "\n",
              "      [theme=dark] .colab-df-generate {\n",
              "        background-color: #3B4455;\n",
              "        fill: #D2E3FC;\n",
              "      }\n",
              "\n",
              "      [theme=dark] .colab-df-generate:hover {\n",
              "        background-color: #434B5C;\n",
              "        box-shadow: 0px 1px 3px 1px rgba(0, 0, 0, 0.15);\n",
              "        filter: drop-shadow(0px 1px 2px rgba(0, 0, 0, 0.3));\n",
              "        fill: #FFFFFF;\n",
              "      }\n",
              "    </style>\n",
              "    <button class=\"colab-df-generate\" onclick=\"generateWithVariable('df')\"\n",
              "            title=\"Generate code using this dataframe.\"\n",
              "            style=\"display:none;\">\n",
              "\n",
              "  <svg xmlns=\"http://www.w3.org/2000/svg\" height=\"24px\"viewBox=\"0 0 24 24\"\n",
              "       width=\"24px\">\n",
              "    <path d=\"M7,19H8.4L18.45,9,17,7.55,7,17.6ZM5,21V16.75L18.45,3.32a2,2,0,0,1,2.83,0l1.4,1.43a1.91,1.91,0,0,1,.58,1.4,1.91,1.91,0,0,1-.58,1.4L9.25,21ZM18.45,9,17,7.55Zm-12,3A5.31,5.31,0,0,0,4.9,8.1,5.31,5.31,0,0,0,1,6.5,5.31,5.31,0,0,0,4.9,4.9,5.31,5.31,0,0,0,6.5,1,5.31,5.31,0,0,0,8.1,4.9,5.31,5.31,0,0,0,12,6.5,5.46,5.46,0,0,0,6.5,12Z\"/>\n",
              "  </svg>\n",
              "    </button>\n",
              "    <script>\n",
              "      (() => {\n",
              "      const buttonEl =\n",
              "        document.querySelector('#id_a27539e2-f670-4980-b0a5-b1c135728875 button.colab-df-generate');\n",
              "      buttonEl.style.display =\n",
              "        google.colab.kernel.accessAllowed ? 'block' : 'none';\n",
              "\n",
              "      buttonEl.onclick = () => {\n",
              "        google.colab.notebook.generateWithVariable('df');\n",
              "      }\n",
              "      })();\n",
              "    </script>\n",
              "  </div>\n",
              "\n",
              "    </div>\n",
              "  </div>\n"
            ],
            "application/vnd.google.colaboratory.intrinsic+json": {
              "type": "dataframe",
              "variable_name": "df",
              "summary": "{\n  \"name\": \"df\",\n  \"rows\": 6,\n  \"fields\": [\n    {\n      \"column\": \"A\",\n      \"properties\": {\n        \"dtype\": \"number\",\n        \"std\": 1.144274699130526,\n        \"min\": -1.5461960019032752,\n        \"max\": 1.6221463295750622,\n        \"num_unique_values\": 6,\n        \"samples\": [\n          -0.13879612542021372,\n          0.4217855735584955,\n          -1.1251028717449516\n        ],\n        \"semantic_type\": \"\",\n        \"description\": \"\"\n      }\n    },\n    {\n      \"column\": \"B\",\n      \"properties\": {\n        \"dtype\": \"number\",\n        \"std\": 1.1391234144558584,\n        \"min\": -1.5473020121449454,\n        \"max\": 1.9065395839483046,\n        \"num_unique_values\": 6,\n        \"samples\": [\n          -1.5473020121449454,\n          0.5704736070001535,\n          0.8982531763390735\n        ],\n        \"semantic_type\": \"\",\n        \"description\": \"\"\n      }\n    },\n    {\n      \"column\": \"C\",\n      \"properties\": {\n        \"dtype\": \"number\",\n        \"std\": 0.8467154795422546,\n        \"min\": -0.8489847495432619,\n        \"max\": 1.3236688903623899,\n        \"num_unique_values\": 6,\n        \"samples\": [\n          0.36033677794668734,\n          1.3236688903623899,\n          0.4918152281614585\n        ],\n        \"semantic_type\": \"\",\n        \"description\": \"\"\n      }\n    },\n    {\n      \"column\": \"D\",\n      \"properties\": {\n        \"dtype\": \"number\",\n        \"std\": 0.9076837857196929,\n        \"min\": -1.1690449510637126,\n        \"max\": 0.768472888326643,\n        \"num_unique_values\": 6,\n        \"samples\": [\n          -1.1256184950181063,\n          0.5226319952066254,\n          -1.1690449510637126\n        ],\n        \"semantic_type\": \"\",\n        \"description\": \"\"\n      }\n    }\n  ]\n}"
            }
          },
          "metadata": {},
          "execution_count": 5
        }
      ]
    },
    {
      "cell_type": "markdown",
      "source": [
        "# **Section-4-Data Preparation using pandas**"
      ],
      "metadata": {
        "id": "pjwf1Np_lY5O"
      }
    },
    {
      "cell_type": "markdown",
      "source": [
        "## **4.1-Loading Libraries**"
      ],
      "metadata": {
        "id": "PvyJ5WEhmKmk"
      }
    },
    {
      "cell_type": "code",
      "source": [
        "#Import the required libraries\n",
        "import pandas as pd\n",
        "import numpy as np\n",
        "import matplotlib.pyplot as plt\n",
        "import seaborn as sns\n",
        "from sklearn.preprocessing import StandardScaler, LabelEncoder"
      ],
      "metadata": {
        "id": "rojRfyWzmRkh"
      },
      "execution_count": null,
      "outputs": []
    },
    {
      "cell_type": "markdown",
      "source": [
        "## **4.2-Loading DataSet**"
      ],
      "metadata": {
        "id": "wR2rsgKHrQue"
      }
    },
    {
      "cell_type": "markdown",
      "source": [
        "### **Built-in-DataSet**"
      ],
      "metadata": {
        "id": "5rMDuntqrcqe"
      }
    },
    {
      "cell_type": "markdown",
      "source": [
        "Many Python libraries come with built-in datasets that are readily available for experimentation and learning. These datasets are often included to showcase library capabilities, serve as educational resources, or provide standard benchmarks for algorithms.\n",
        "\n",
        "Following are some examples of libraries that include dataset in them.\n",
        "\n",
        "\n",
        "1.   **Scikit-Learn**\n",
        "2.   **Seaborn**\n",
        "3.   **Matplotlib**\n",
        "4.   **TensorFlow**\n",
        "\n",
        "\n",
        "\n"
      ],
      "metadata": {
        "id": "qIau5Mxrsf52"
      }
    },
    {
      "cell_type": "code",
      "source": [
        "import seaborn as sns\n",
        "df=sns.load_dataset('titanic')\n",
        "import numpy as np"
      ],
      "metadata": {
        "id": "8bkzYEYSkTJx"
      },
      "execution_count": null,
      "outputs": []
    },
    {
      "cell_type": "code",
      "source": [
        "from sklearn import datasets\n",
        "\n",
        "# Load a built-in dataset (e.g., Iris dataset)\n",
        "iris = datasets.load_iris()\n"
      ],
      "metadata": {
        "id": "s1Hi6jM1tGae"
      },
      "execution_count": null,
      "outputs": []
    },
    {
      "cell_type": "code",
      "source": [
        "import tensorflow_datasets as tfds\n",
        "\n",
        "# Load a built-in dataset (e.g., MNIST dataset)\n",
        "mnist_data = tfds.load('mnist')\n"
      ],
      "metadata": {
        "id": "TktjLPB7tQXp"
      },
      "execution_count": null,
      "outputs": []
    },
    {
      "cell_type": "markdown",
      "source": [
        "### **User-Defined DataSet**"
      ],
      "metadata": {
        "id": "wW-glohNtZZv"
      }
    },
    {
      "cell_type": "markdown",
      "source": [
        "User-defined datasets refer to datasets created by users or organizations for specific analysis, research, or applications. These datasets may be sourced from various sources, including surveys, experiments, data collection efforts, and public repositories.\n",
        "\n",
        "Following are some ways to collect the user-defined datasets.\n",
        "\n",
        "\n",
        "1.   **Local Files (CSV, Excel, JSON, etc.)**\n",
        "2.   **Database Queries**\n",
        "3.   **Web Scraping**\n",
        "\n",
        "\n",
        "\n"
      ],
      "metadata": {
        "id": "qv4Mm6iStinu"
      }
    },
    {
      "cell_type": "code",
      "source": [
        "# Basic Syntax\n",
        "pd.read_fileExtensionName(\"File Path\")"
      ],
      "metadata": {
        "id": "1qQ0Z-TSv4JT"
      },
      "execution_count": null,
      "outputs": []
    },
    {
      "cell_type": "code",
      "source": [
        "# Local Files\n",
        "import pandas as pd\n",
        "\n",
        "# Load a user-defined dataset from a CSV file\n",
        "df = pd.read_csv('data.csv')"
      ],
      "metadata": {
        "id": "KDJmB4b8ueEg"
      },
      "execution_count": null,
      "outputs": []
    },
    {
      "cell_type": "code",
      "source": [
        "# From Database\n",
        "\n",
        "\n",
        "import pandas as pd\n",
        "import sqlite3\n",
        "\n",
        "# Connect to a SQLite database\n",
        "conn = sqlite3.connect('database.db')\n",
        "\n",
        "# Execute a SQL query to fetch data\n",
        "query = \"SELECT * FROM table_name\"\n",
        "df = pd.read_sql(query, conn)\n",
        "\n",
        "# Close the database connection\n",
        "conn.close()"
      ],
      "metadata": {
        "id": "e4b8vz_suhtR"
      },
      "execution_count": null,
      "outputs": []
    },
    {
      "cell_type": "code",
      "source": [
        "# Using Web-Scrapping\n",
        "\n",
        "import pandas as pd\n",
        "import requests\n",
        "from bs4 import BeautifulSoup\n",
        "\n",
        "# Fetch data from a website\n",
        "url = 'https://example.com/data'\n",
        "response = requests.get(url)\n",
        "soup = BeautifulSoup(response.content, 'html.parser')\n",
        "\n",
        "# Parse HTML content to extract data\n",
        "# Example: Extracting tables using pandas read_html function\n",
        "dfs = pd.read_html(url)\n",
        "df = dfs[0]"
      ],
      "metadata": {
        "id": "Z9XNK1mfunMv"
      },
      "execution_count": null,
      "outputs": []
    },
    {
      "cell_type": "markdown",
      "source": [
        "**Here We will use Titanic DataSet for the refrence**"
      ],
      "metadata": {
        "id": "prJbSBTNvXOF"
      }
    },
    {
      "cell_type": "code",
      "source": [
        "import seaborn as sns\n",
        "df=sns.load_dataset('titanic')"
      ],
      "metadata": {
        "id": "TDDKzMN-vZYj"
      },
      "execution_count": null,
      "outputs": []
    },
    {
      "cell_type": "markdown",
      "source": [
        "## **4.3-Common Pandas Functions**"
      ],
      "metadata": {
        "id": "I5PBQZ0mw2Aw"
      }
    },
    {
      "cell_type": "markdown",
      "source": [
        "### **Viewing DataSet**"
      ],
      "metadata": {
        "id": "kkMoz5NyxaSF"
      }
    },
    {
      "cell_type": "markdown",
      "source": [
        "```head()``` &```tail()```:\n",
        "View the first or last few rows of the dataset."
      ],
      "metadata": {
        "id": "vNqM-8u2xpT5"
      }
    },
    {
      "cell_type": "code",
      "source": [
        "df.head()  # View the first few rows\n",
        "df.tail()  # View the last few rows\n"
      ],
      "metadata": {
        "id": "yrffsjH6x6T1"
      },
      "execution_count": null,
      "outputs": []
    },
    {
      "cell_type": "markdown",
      "source": [
        "```info()```: Get a concise summary of the dataset, including data types and missing values."
      ],
      "metadata": {
        "id": "pUtXziO5x9yW"
      }
    },
    {
      "cell_type": "code",
      "source": [
        "df.info() # Give summary of the dataset"
      ],
      "metadata": {
        "id": "SCFB1zjPyF6s"
      },
      "execution_count": null,
      "outputs": []
    },
    {
      "cell_type": "markdown",
      "source": [
        "```describe()```: Get statistical information about numerical columns."
      ],
      "metadata": {
        "id": "EvHuwR4vyLBp"
      }
    },
    {
      "cell_type": "code",
      "source": [
        "df.describe() # Get statistical information about numerical columns"
      ],
      "metadata": {
        "id": "GSo5dmbPyTKN"
      },
      "execution_count": null,
      "outputs": []
    },
    {
      "cell_type": "markdown",
      "source": [
        "### **Data Cleaning**"
      ],
      "metadata": {
        "id": "MuXN5aspyj-M"
      }
    },
    {
      "cell_type": "markdown",
      "source": [
        "**Handling Missing Values**:"
      ],
      "metadata": {
        "id": "zMzzWNoByvjL"
      }
    },
    {
      "cell_type": "code",
      "source": [
        "# Check for missing values\n",
        "df.isnull().sum()\n",
        "\n",
        "# Fill missing values in 'Age' column with median age\n",
        "median_age = df['Age'].median()\n",
        "df['Age'].fillna(median_age, inplace=True)\n",
        "\n",
        "# Fill missing values in 'Embarked' column with the most common value\n",
        "most_common_embarked = df['Embarked'].mode()[0]\n",
        "df['Embarked'].fillna(most_common_embarked, inplace=True)\n"
      ],
      "metadata": {
        "id": "tMkBep0Uy2A5"
      },
      "execution_count": null,
      "outputs": []
    },
    {
      "cell_type": "markdown",
      "source": [
        "**Removing Duplicates:**"
      ],
      "metadata": {
        "id": "5xcFaoFQzEZ8"
      }
    },
    {
      "cell_type": "code",
      "source": [
        "# Check for duplicate rows\n",
        "df.duplicated().sum()\n",
        "\n",
        "# Drop duplicate rows\n",
        "df.drop_duplicates(inplace=True)"
      ],
      "metadata": {
        "id": "HS_HYGHKzIpj"
      },
      "execution_count": null,
      "outputs": []
    },
    {
      "cell_type": "markdown",
      "source": [
        "**Handling Categorical Variables:**"
      ],
      "metadata": {
        "id": "e8O3RSTjzTa0"
      }
    },
    {
      "cell_type": "code",
      "source": [
        "# Convert 'Sex' column to categorical data type\n",
        "df['Sex'] = df['Sex'].astype('category')\n",
        "\n",
        "# Convert 'Embarked' column to categorical data type\n",
        "df['Embarked'] = df['Embarked'].astype('category')"
      ],
      "metadata": {
        "id": "7G_HiggMzZtw"
      },
      "execution_count": null,
      "outputs": []
    },
    {
      "cell_type": "markdown",
      "source": [
        "**Handling Outliers:**"
      ],
      "metadata": {
        "id": "dZPaGTiQzf2_"
      }
    },
    {
      "cell_type": "markdown",
      "source": [
        "Outliers can skew your data and affect the performance of your model."
      ],
      "metadata": {
        "id": "vZOLBp7Uvnwd"
      }
    },
    {
      "cell_type": "code",
      "source": [
        "# Detect Outliers\n",
        "sns.boxplot(x=df['Fare'])\n",
        "plt.show()"
      ],
      "metadata": {
        "id": "h9MqQvAhwESL"
      },
      "execution_count": null,
      "outputs": []
    },
    {
      "cell_type": "code",
      "source": [
        "# Removing Outliers\n",
        "Q1 = df['Fare'].quantile(0.25)\n",
        "Q3 = df['Fare'].quantile(0.75)\n",
        "IQR = Q3 - Q1\n",
        "df = df[(df['Fare'] >= (Q1 - 1.5 * IQR)) & (df['Fare'] <= (Q3 + 1.5 * IQR))]\n"
      ],
      "metadata": {
        "id": "1LiTvX9-wH86"
      },
      "execution_count": null,
      "outputs": []
    },
    {
      "cell_type": "markdown",
      "source": [
        "### **Data Transformation**"
      ],
      "metadata": {
        "id": "hQYAOvYJwihH"
      }
    },
    {
      "cell_type": "markdown",
      "source": [
        "**Normalizing and Scaling**"
      ],
      "metadata": {
        "id": "gIILwRIewm7r"
      }
    },
    {
      "cell_type": "code",
      "source": [
        "scaler = StandardScaler()\n",
        "df[['Age', 'Fare']] = scaler.fit_transform(df[['Age', 'Fare']])\n"
      ],
      "metadata": {
        "id": "-1hfZFqlwsVo"
      },
      "execution_count": null,
      "outputs": []
    },
    {
      "cell_type": "markdown",
      "source": [
        "**Encoding categorical variables:**"
      ],
      "metadata": {
        "id": "ugPYNylWxacZ"
      }
    },
    {
      "cell_type": "code",
      "source": [
        "# One-hot encoding for 'Sex' and 'Embarked'\n",
        "df = pd.get_dummies(df, columns=['Sex', 'Embarked'])\n",
        "\n",
        "# Label encoding for 'Pclass'\n",
        "le = LabelEncoder()\n",
        "df['Pclass'] = le.fit_transform(df['Pclass'])\n"
      ],
      "metadata": {
        "id": "yw3rU1NQxW1y"
      },
      "execution_count": null,
      "outputs": []
    },
    {
      "cell_type": "markdown",
      "source": [
        "### **Feature Engineering**"
      ],
      "metadata": {
        "id": "5VGVCrrcyr3h"
      }
    },
    {
      "cell_type": "markdown",
      "source": [
        "**Creating New Features out of existing data**"
      ],
      "metadata": {
        "id": "Ss1UgchOy5fg"
      }
    },
    {
      "cell_type": "code",
      "source": [
        "# Creating a family size feature\n",
        "df['FamilySize'] = df['SibSp'] + df['Parch'] + 1"
      ],
      "metadata": {
        "id": "RHtG28Rq0SeW"
      },
      "execution_count": null,
      "outputs": []
    },
    {
      "cell_type": "markdown",
      "source": [
        "**pd.read_csv()**\n"
      ],
      "metadata": {
        "id": "lo43FhAdUo9a"
      }
    },
    {
      "cell_type": "markdown",
      "source": [
        "### **Filtering  the Data**"
      ],
      "metadata": {
        "id": "PgMSdBOY2dlB"
      }
    },
    {
      "cell_type": "code",
      "source": [
        "# Filter rows based on a condition\n",
        "filtered_data = data[data['column'] = value]"
      ],
      "metadata": {
        "id": "5e9XwyOX2iDK"
      },
      "execution_count": null,
      "outputs": []
    },
    {
      "cell_type": "code",
      "source": [
        "# Filter passengers who survived:\n",
        "survived_df = df[df['Survived'] == 1]\n",
        "print(survived_df.head())"
      ],
      "metadata": {
        "id": "3JSfxMYv2k3O"
      },
      "execution_count": null,
      "outputs": []
    },
    {
      "cell_type": "code",
      "source": [
        "# Filter passengers who are female and survived:\n",
        "female_survived_df = df[(df['Survived'] == 1) & (df['Sex'] == 'female')]\n",
        "print(female_survived_df.head())"
      ],
      "metadata": {
        "id": "GDz71m7O2unt"
      },
      "execution_count": null,
      "outputs": []
    },
    {
      "cell_type": "code",
      "source": [
        "# Filter passengers who are male and paid a fare greater than $50:\n",
        "male_high_fare_df = df[(df['Sex'] == 'male') & (df['Fare'] > 50)]\n",
        "print(male_high_fare_df.head())\n"
      ],
      "metadata": {
        "id": "9UrVTgw720fl"
      },
      "execution_count": null,
      "outputs": []
    },
    {
      "cell_type": "markdown",
      "source": [
        "### **Subsetting the Data**"
      ],
      "metadata": {
        "id": "ZbUCV84P3Qk8"
      }
    },
    {
      "cell_type": "markdown",
      "source": [
        "Subsetting involves selecting specific rows and columns."
      ],
      "metadata": {
        "id": "JPH9pcBm3frT"
      }
    },
    {
      "cell_type": "markdown",
      "source": [
        "**Selecting by using Columns Names**"
      ],
      "metadata": {
        "id": "WD2-Zlj83jLB"
      }
    },
    {
      "cell_type": "code",
      "source": [
        "subset_df = df[['Name', 'Sex', 'Age', 'Survived']]\n",
        "print(subset_df.head())"
      ],
      "metadata": {
        "id": "VskmQm0C3Tpv"
      },
      "execution_count": null,
      "outputs": []
    },
    {
      "cell_type": "markdown",
      "source": [
        "**Select rows by index:**"
      ],
      "metadata": {
        "id": "qtS0QmJS3zPQ"
      }
    },
    {
      "cell_type": "code",
      "source": [
        "subset_rows_df = df.iloc[0:10]  # First 10 rows\n",
        "print(subset_rows_df)"
      ],
      "metadata": {
        "id": "_yZNjCKa33W5"
      },
      "execution_count": null,
      "outputs": []
    },
    {
      "cell_type": "markdown",
      "source": [
        "**Select specific rows and columns:**"
      ],
      "metadata": {
        "id": "lNYc7HX_4sLw"
      }
    },
    {
      "cell_type": "code",
      "source": [
        "subset_rows_columns_df = df.loc[0:10, ['Name', 'Age', 'Survived']]  # First 11 rows and specific columns\n",
        "print(subset_rows_columns_df)"
      ],
      "metadata": {
        "id": "2_Db_cN74uyM"
      },
      "execution_count": null,
      "outputs": []
    },
    {
      "cell_type": "code",
      "source": [
        "import pandas as pd\n",
        "\n",
        "# Read the CSV file into a DataFrame\n",
        "df = pd.read_csv('data.csv')\n",
        "\n",
        "# Print the DataFrame\n",
        "print(df)"
      ],
      "metadata": {
        "id": "vB_-Ifv0UrDw"
      },
      "execution_count": null,
      "outputs": []
    },
    {
      "cell_type": "markdown",
      "source": [
        "###  **Grouping Data**"
      ],
      "metadata": {
        "id": "opvIzfa8DjhX"
      }
    },
    {
      "cell_type": "markdown",
      "source": [
        "Grouping data involves splitting the data into groups based on some criteria."
      ],
      "metadata": {
        "id": "z7s3Ef4QDpDi"
      }
    },
    {
      "cell_type": "code",
      "source": [
        "# Group by a single column (e.g., 'Sex'):\n",
        "grouped_df = df.groupby('Sex')"
      ],
      "metadata": {
        "id": "Qejcs8djDxEO"
      },
      "execution_count": null,
      "outputs": []
    },
    {
      "cell_type": "code",
      "source": [
        "# Group by multiple columns (e.g., 'Sex' and 'Pclass'):\n",
        "grouped_df = df.groupby(['Sex', 'Pclass'])"
      ],
      "metadata": {
        "id": "uaMXqy1nD3GL"
      },
      "execution_count": null,
      "outputs": []
    },
    {
      "cell_type": "markdown",
      "source": [
        "### **Aggregating Data**"
      ],
      "metadata": {
        "id": "VkkWc_wMD9ka"
      }
    },
    {
      "cell_type": "code",
      "source": [
        "# Calculate the mean age for each gender:\n",
        "mean_age_by_gender = df.groupby('Sex')['Age'].mean()\n",
        "print(mean_age_by_gender)"
      ],
      "metadata": {
        "id": "MUTksIaPEVXq"
      },
      "execution_count": null,
      "outputs": []
    },
    {
      "cell_type": "markdown",
      "source": [
        "Aggregation involves computing a summary statistic for each group."
      ],
      "metadata": {
        "id": "0OIHWQ_GEKc9"
      }
    },
    {
      "cell_type": "code",
      "source": [
        "# Calculate multiple aggregation functions (mean and median) for 'Fare' grouped by 'Pclass':\n",
        "aggregated_df = df.groupby('Pclass')['Fare'].agg(['mean', 'median'])\n",
        "print(aggregated_df)"
      ],
      "metadata": {
        "id": "tdhLdAxQEmEn"
      },
      "execution_count": null,
      "outputs": []
    },
    {
      "cell_type": "code",
      "source": [
        "# Calculate multiple aggregations for multiple columns:\n",
        "multi_agg_by_sex_pclass = grouped_by_sex_pclass.agg({\n",
        "    'Age': ['mean', 'max', 'min'],\n",
        "    'Fare': ['mean', 'sum']\n",
        "})\n",
        "print(multi_agg_by_sex_pclass)\n"
      ],
      "metadata": {
        "id": "wp6VvD2nEsal"
      },
      "execution_count": null,
      "outputs": []
    },
    {
      "cell_type": "markdown",
      "source": [
        "### **Merging and Joining Data**"
      ],
      "metadata": {
        "id": "6cmrHwzgLK1S"
      }
    },
    {
      "cell_type": "markdown",
      "source": [
        "Merging and joining are essential for combining multiple datasets."
      ],
      "metadata": {
        "id": "DY-aSptxLOtp"
      }
    },
    {
      "cell_type": "code",
      "source": [
        "import pandas as pd\n",
        "\n",
        "# Load the Titanic dataset\n",
        "titanic_df = pd.read_csv('titanic.csv')\n",
        "\n",
        "# Create another DataFrame for demonstration\n",
        "additional_info = pd.DataFrame({\n",
        "    'PassengerId': [1, 2, 3, 4, 5],\n",
        "    'Embarkation_Port': ['Southampton', 'Cherbourg', 'Cherbourg', 'Southampton', 'Southampton'],\n",
        "    'Ticket_Price_Category': ['High', 'High', 'Medium', 'Low', 'Medium']\n",
        "})\n",
        "\n",
        "print(titanic_df.head())\n",
        "print(additional_info)\n"
      ],
      "metadata": {
        "id": "8C6ZDxQ5LUkO"
      },
      "execution_count": null,
      "outputs": []
    },
    {
      "cell_type": "markdown",
      "source": [
        "**Merge Two DataFrames on a Common Column**"
      ],
      "metadata": {
        "id": "eMA0fbZBLriK"
      }
    },
    {
      "cell_type": "code",
      "source": [
        "# We will merge titanic_df and additional_info on the PassengerId column.\n",
        "merged_data = pd.merge(titanic_df, additional_info, on='PassengerId')\n",
        "print(merged_data.head())"
      ],
      "metadata": {
        "id": "EztC38t8LwSh"
      },
      "execution_count": null,
      "outputs": []
    },
    {
      "cell_type": "markdown",
      "source": [
        "**Join Two DataFrames Based on Their Indexes**"
      ],
      "metadata": {
        "id": "_RalrKADL3R0"
      }
    },
    {
      "cell_type": "code",
      "source": [
        "# First, we need to set the PassengerId as the index for both DataFrames. Then we will perform the join.\n",
        "# Set 'PassengerId' as the index\n",
        "titanic_df.set_index('PassengerId', inplace=True)\n",
        "additional_info.set_index('PassengerId', inplace=True)\n",
        "\n",
        "# Join DataFrames based on their indexes\n",
        "joined_data = titanic_df.join(additional_info, how='inner')\n",
        "print(joined_data.head())\n",
        "\n",
        "# Reset index if needed\n",
        "titanic_df.reset_index(inplace=True)\n",
        "additional_info.reset_index(inplace=True)\n"
      ],
      "metadata": {
        "id": "Sa_ufZYsL8S6"
      },
      "execution_count": null,
      "outputs": []
    },
    {
      "cell_type": "markdown",
      "source": [
        "**pd.read_table()**"
      ],
      "metadata": {
        "id": "OpA5qfli0_w-"
      }
    },
    {
      "cell_type": "code",
      "source": [
        "import pandas as pd\n",
        "\n",
        "# Read the delimited file into a DataFrame\n",
        "df = pd.read_table('data.txt', delimiter='\\t')\n",
        "\n",
        "# Print the DataFrame\n",
        "print(df)"
      ],
      "metadata": {
        "id": "SuAGxod41nW2"
      },
      "execution_count": null,
      "outputs": []
    },
    {
      "cell_type": "markdown",
      "source": [
        "**pd.read_excel()**\n"
      ],
      "metadata": {
        "id": "gAyD8MLJ3TuB"
      }
    },
    {
      "cell_type": "code",
      "source": [
        "import pandas as pd\n",
        "\n",
        "# Read the Excel file into a DataFrame\n",
        "df = pd.read_excel('data.xlsx')\n",
        "\n",
        "# Print the DataFrame\n",
        "print(df)"
      ],
      "metadata": {
        "id": "IUDBynUK4IcC"
      },
      "execution_count": null,
      "outputs": []
    },
    {
      "cell_type": "markdown",
      "source": [
        "**pd.readl_sql()**\n"
      ],
      "metadata": {
        "id": "QrsrbtXv9Nvb"
      }
    },
    {
      "cell_type": "code",
      "source": [
        "import pandas as pd\n",
        "import sqlite3\n",
        "\n",
        "# Create a connection to the database\n",
        "conn = sqlite3.connect('my_database.db')\n",
        "\n",
        "# Read the SQL query into a DataFrame\n",
        "df = pd.read_sql('SELECT * FROM users', conn)\n",
        "\n",
        "# Print the DataFrame\n",
        "print(df)"
      ],
      "metadata": {
        "id": "awdvq66-9m_T"
      },
      "execution_count": null,
      "outputs": []
    },
    {
      "cell_type": "markdown",
      "source": [
        "**pd.read_json()**\n"
      ],
      "metadata": {
        "id": "UWmzZAs3_lbv"
      }
    },
    {
      "cell_type": "code",
      "source": [
        "import pandas as pd\n",
        "\n",
        "# Read the JSON file into a DataFrame\n",
        "df = pd.read_json('data.json')\n",
        "\n",
        "# Print the DataFrame\n",
        "print(df)"
      ],
      "metadata": {
        "id": "6k__j-CP_zZj"
      },
      "execution_count": null,
      "outputs": []
    },
    {
      "cell_type": "markdown",
      "source": [
        "## **4.4-Data Statistics**"
      ],
      "metadata": {
        "id": "eLX-EUxMVo6P"
      }
    },
    {
      "cell_type": "markdown",
      "source": [
        "**head()**\n"
      ],
      "metadata": {
        "id": "n7TS_Rr5WQy3"
      }
    },
    {
      "cell_type": "code",
      "source": [
        "df.head()"
      ],
      "metadata": {
        "id": "JLU_xWHQWVfv"
      },
      "execution_count": null,
      "outputs": []
    },
    {
      "cell_type": "markdown",
      "source": [
        "**tail()**\n"
      ],
      "metadata": {
        "id": "HWIabHcgbP2I"
      }
    },
    {
      "cell_type": "code",
      "source": [
        "df.tail(5)"
      ],
      "metadata": {
        "colab": {
          "base_uri": "https://localhost:8080/",
          "height": 206
        },
        "id": "ErNChFSsbT2a",
        "outputId": "4897aa3c-baad-4fdd-be68-2ee190ab4498"
      },
      "execution_count": null,
      "outputs": [
        {
          "output_type": "execute_result",
          "data": {
            "text/plain": [
              "     survived  pclass     sex   age  sibsp  parch   fare embarked   class  \\\n",
              "886         0       2    male  27.0      0      0  13.00        S  Second   \n",
              "887         1       1  female  19.0      0      0  30.00        S   First   \n",
              "888         0       3  female   NaN      1      2  23.45        S   Third   \n",
              "889         1       1    male  26.0      0      0  30.00        C   First   \n",
              "890         0       3    male  32.0      0      0   7.75        Q   Third   \n",
              "\n",
              "       who  adult_male deck  embark_town alive  alone  \n",
              "886    man        True  NaN  Southampton    no   True  \n",
              "887  woman       False    B  Southampton   yes   True  \n",
              "888  woman       False  NaN  Southampton    no  False  \n",
              "889    man        True    C    Cherbourg   yes   True  \n",
              "890    man        True  NaN   Queenstown    no   True  "
            ],
            "text/html": [
              "\n",
              "  <div id=\"df-ecc7575d-9e9f-42f6-826e-7c20920677f5\">\n",
              "    <div class=\"colab-df-container\">\n",
              "      <div>\n",
              "<style scoped>\n",
              "    .dataframe tbody tr th:only-of-type {\n",
              "        vertical-align: middle;\n",
              "    }\n",
              "\n",
              "    .dataframe tbody tr th {\n",
              "        vertical-align: top;\n",
              "    }\n",
              "\n",
              "    .dataframe thead th {\n",
              "        text-align: right;\n",
              "    }\n",
              "</style>\n",
              "<table border=\"1\" class=\"dataframe\">\n",
              "  <thead>\n",
              "    <tr style=\"text-align: right;\">\n",
              "      <th></th>\n",
              "      <th>survived</th>\n",
              "      <th>pclass</th>\n",
              "      <th>sex</th>\n",
              "      <th>age</th>\n",
              "      <th>sibsp</th>\n",
              "      <th>parch</th>\n",
              "      <th>fare</th>\n",
              "      <th>embarked</th>\n",
              "      <th>class</th>\n",
              "      <th>who</th>\n",
              "      <th>adult_male</th>\n",
              "      <th>deck</th>\n",
              "      <th>embark_town</th>\n",
              "      <th>alive</th>\n",
              "      <th>alone</th>\n",
              "    </tr>\n",
              "  </thead>\n",
              "  <tbody>\n",
              "    <tr>\n",
              "      <th>886</th>\n",
              "      <td>0</td>\n",
              "      <td>2</td>\n",
              "      <td>male</td>\n",
              "      <td>27.0</td>\n",
              "      <td>0</td>\n",
              "      <td>0</td>\n",
              "      <td>13.00</td>\n",
              "      <td>S</td>\n",
              "      <td>Second</td>\n",
              "      <td>man</td>\n",
              "      <td>True</td>\n",
              "      <td>NaN</td>\n",
              "      <td>Southampton</td>\n",
              "      <td>no</td>\n",
              "      <td>True</td>\n",
              "    </tr>\n",
              "    <tr>\n",
              "      <th>887</th>\n",
              "      <td>1</td>\n",
              "      <td>1</td>\n",
              "      <td>female</td>\n",
              "      <td>19.0</td>\n",
              "      <td>0</td>\n",
              "      <td>0</td>\n",
              "      <td>30.00</td>\n",
              "      <td>S</td>\n",
              "      <td>First</td>\n",
              "      <td>woman</td>\n",
              "      <td>False</td>\n",
              "      <td>B</td>\n",
              "      <td>Southampton</td>\n",
              "      <td>yes</td>\n",
              "      <td>True</td>\n",
              "    </tr>\n",
              "    <tr>\n",
              "      <th>888</th>\n",
              "      <td>0</td>\n",
              "      <td>3</td>\n",
              "      <td>female</td>\n",
              "      <td>NaN</td>\n",
              "      <td>1</td>\n",
              "      <td>2</td>\n",
              "      <td>23.45</td>\n",
              "      <td>S</td>\n",
              "      <td>Third</td>\n",
              "      <td>woman</td>\n",
              "      <td>False</td>\n",
              "      <td>NaN</td>\n",
              "      <td>Southampton</td>\n",
              "      <td>no</td>\n",
              "      <td>False</td>\n",
              "    </tr>\n",
              "    <tr>\n",
              "      <th>889</th>\n",
              "      <td>1</td>\n",
              "      <td>1</td>\n",
              "      <td>male</td>\n",
              "      <td>26.0</td>\n",
              "      <td>0</td>\n",
              "      <td>0</td>\n",
              "      <td>30.00</td>\n",
              "      <td>C</td>\n",
              "      <td>First</td>\n",
              "      <td>man</td>\n",
              "      <td>True</td>\n",
              "      <td>C</td>\n",
              "      <td>Cherbourg</td>\n",
              "      <td>yes</td>\n",
              "      <td>True</td>\n",
              "    </tr>\n",
              "    <tr>\n",
              "      <th>890</th>\n",
              "      <td>0</td>\n",
              "      <td>3</td>\n",
              "      <td>male</td>\n",
              "      <td>32.0</td>\n",
              "      <td>0</td>\n",
              "      <td>0</td>\n",
              "      <td>7.75</td>\n",
              "      <td>Q</td>\n",
              "      <td>Third</td>\n",
              "      <td>man</td>\n",
              "      <td>True</td>\n",
              "      <td>NaN</td>\n",
              "      <td>Queenstown</td>\n",
              "      <td>no</td>\n",
              "      <td>True</td>\n",
              "    </tr>\n",
              "  </tbody>\n",
              "</table>\n",
              "</div>\n",
              "      <button class=\"colab-df-convert\" onclick=\"convertToInteractive('df-ecc7575d-9e9f-42f6-826e-7c20920677f5')\"\n",
              "              title=\"Convert this dataframe to an interactive table.\"\n",
              "              style=\"display:none;\">\n",
              "        \n",
              "  <svg xmlns=\"http://www.w3.org/2000/svg\" height=\"24px\"viewBox=\"0 0 24 24\"\n",
              "       width=\"24px\">\n",
              "    <path d=\"M0 0h24v24H0V0z\" fill=\"none\"/>\n",
              "    <path d=\"M18.56 5.44l.94 2.06.94-2.06 2.06-.94-2.06-.94-.94-2.06-.94 2.06-2.06.94zm-11 1L8.5 8.5l.94-2.06 2.06-.94-2.06-.94L8.5 2.5l-.94 2.06-2.06.94zm10 10l.94 2.06.94-2.06 2.06-.94-2.06-.94-.94-2.06-.94 2.06-2.06.94z\"/><path d=\"M17.41 7.96l-1.37-1.37c-.4-.4-.92-.59-1.43-.59-.52 0-1.04.2-1.43.59L10.3 9.45l-7.72 7.72c-.78.78-.78 2.05 0 2.83L4 21.41c.39.39.9.59 1.41.59.51 0 1.02-.2 1.41-.59l7.78-7.78 2.81-2.81c.8-.78.8-2.07 0-2.86zM5.41 20L4 18.59l7.72-7.72 1.47 1.35L5.41 20z\"/>\n",
              "  </svg>\n",
              "      </button>\n",
              "      \n",
              "  <style>\n",
              "    .colab-df-container {\n",
              "      display:flex;\n",
              "      flex-wrap:wrap;\n",
              "      gap: 12px;\n",
              "    }\n",
              "\n",
              "    .colab-df-convert {\n",
              "      background-color: #E8F0FE;\n",
              "      border: none;\n",
              "      border-radius: 50%;\n",
              "      cursor: pointer;\n",
              "      display: none;\n",
              "      fill: #1967D2;\n",
              "      height: 32px;\n",
              "      padding: 0 0 0 0;\n",
              "      width: 32px;\n",
              "    }\n",
              "\n",
              "    .colab-df-convert:hover {\n",
              "      background-color: #E2EBFA;\n",
              "      box-shadow: 0px 1px 2px rgba(60, 64, 67, 0.3), 0px 1px 3px 1px rgba(60, 64, 67, 0.15);\n",
              "      fill: #174EA6;\n",
              "    }\n",
              "\n",
              "    [theme=dark] .colab-df-convert {\n",
              "      background-color: #3B4455;\n",
              "      fill: #D2E3FC;\n",
              "    }\n",
              "\n",
              "    [theme=dark] .colab-df-convert:hover {\n",
              "      background-color: #434B5C;\n",
              "      box-shadow: 0px 1px 3px 1px rgba(0, 0, 0, 0.15);\n",
              "      filter: drop-shadow(0px 1px 2px rgba(0, 0, 0, 0.3));\n",
              "      fill: #FFFFFF;\n",
              "    }\n",
              "  </style>\n",
              "\n",
              "      <script>\n",
              "        const buttonEl =\n",
              "          document.querySelector('#df-ecc7575d-9e9f-42f6-826e-7c20920677f5 button.colab-df-convert');\n",
              "        buttonEl.style.display =\n",
              "          google.colab.kernel.accessAllowed ? 'block' : 'none';\n",
              "\n",
              "        async function convertToInteractive(key) {\n",
              "          const element = document.querySelector('#df-ecc7575d-9e9f-42f6-826e-7c20920677f5');\n",
              "          const dataTable =\n",
              "            await google.colab.kernel.invokeFunction('convertToInteractive',\n",
              "                                                     [key], {});\n",
              "          if (!dataTable) return;\n",
              "\n",
              "          const docLinkHtml = 'Like what you see? Visit the ' +\n",
              "            '<a target=\"_blank\" href=https://colab.research.google.com/notebooks/data_table.ipynb>data table notebook</a>'\n",
              "            + ' to learn more about interactive tables.';\n",
              "          element.innerHTML = '';\n",
              "          dataTable['output_type'] = 'display_data';\n",
              "          await google.colab.output.renderOutput(dataTable, element);\n",
              "          const docLink = document.createElement('div');\n",
              "          docLink.innerHTML = docLinkHtml;\n",
              "          element.appendChild(docLink);\n",
              "        }\n",
              "      </script>\n",
              "    </div>\n",
              "  </div>\n",
              "  "
            ]
          },
          "metadata": {},
          "execution_count": 6
        }
      ]
    },
    {
      "cell_type": "markdown",
      "source": [
        "**shape()**\n"
      ],
      "metadata": {
        "id": "1vLm1i-pdMEG"
      }
    },
    {
      "cell_type": "code",
      "source": [
        "df.shape()"
      ],
      "metadata": {
        "id": "sNhGl5y2dQGP"
      },
      "execution_count": null,
      "outputs": []
    },
    {
      "cell_type": "markdown",
      "source": [
        "**isnull()**\n"
      ],
      "metadata": {
        "id": "r2KbAVZxlLSY"
      }
    },
    {
      "cell_type": "code",
      "source": [
        "df.isnull().head()"
      ],
      "metadata": {
        "id": "__1ktE5VlFzx"
      },
      "execution_count": null,
      "outputs": []
    },
    {
      "cell_type": "markdown",
      "source": [
        "**sum()**\n"
      ],
      "metadata": {
        "id": "FqwDwOKtlwsH"
      }
    },
    {
      "cell_type": "code",
      "source": [
        "df.isnull().sum()"
      ],
      "metadata": {
        "id": "stzmARX_lsu2"
      },
      "execution_count": null,
      "outputs": []
    },
    {
      "cell_type": "markdown",
      "source": [
        "**info()**\n"
      ],
      "metadata": {
        "id": "cl-5gpFNrBF0"
      }
    },
    {
      "cell_type": "code",
      "source": [
        "df.info()"
      ],
      "metadata": {
        "id": "tlj4AAarrF77"
      },
      "execution_count": null,
      "outputs": []
    },
    {
      "cell_type": "markdown",
      "source": [
        "**describe()**\n"
      ],
      "metadata": {
        "id": "42YPI_QKrL2C"
      }
    },
    {
      "cell_type": "code",
      "source": [
        "df.describe()"
      ],
      "metadata": {
        "id": "Mm78GzBFrNoS"
      },
      "execution_count": null,
      "outputs": []
    },
    {
      "cell_type": "markdown",
      "source": [
        "**mean()**"
      ],
      "metadata": {
        "id": "NG7kxaegvdI3"
      }
    },
    {
      "cell_type": "code",
      "source": [
        "df.mean()"
      ],
      "metadata": {
        "id": "qPXWhAh3vh9q"
      },
      "execution_count": null,
      "outputs": []
    },
    {
      "cell_type": "markdown",
      "source": [
        "**median()**"
      ],
      "metadata": {
        "id": "cu-7f6co1tic"
      }
    },
    {
      "cell_type": "code",
      "source": [
        "df.median()"
      ],
      "metadata": {
        "id": "W-n_sKqa1rCM"
      },
      "execution_count": null,
      "outputs": []
    },
    {
      "cell_type": "markdown",
      "source": [
        "**std()**"
      ],
      "metadata": {
        "id": "iNy_ME3A5Hb0"
      }
    },
    {
      "cell_type": "code",
      "source": [
        "df.std()"
      ],
      "metadata": {
        "id": "oSak7V-V19KU"
      },
      "execution_count": null,
      "outputs": []
    },
    {
      "cell_type": "markdown",
      "source": [
        "**Count()**"
      ],
      "metadata": {
        "id": "6VbxfpSBC1wK"
      }
    },
    {
      "cell_type": "code",
      "source": [
        "df.count()"
      ],
      "metadata": {
        "id": "kuJ3L42b5BlL"
      },
      "execution_count": null,
      "outputs": []
    },
    {
      "cell_type": "markdown",
      "source": [
        "**Max()**"
      ],
      "metadata": {
        "id": "yKY1_wBSYMGb"
      }
    },
    {
      "cell_type": "code",
      "source": [
        "df.max()"
      ],
      "metadata": {
        "id": "4ZQ6a7VcYILT"
      },
      "execution_count": null,
      "outputs": []
    },
    {
      "cell_type": "markdown",
      "source": [
        "**Min()**"
      ],
      "metadata": {
        "id": "7kQtDE4Lkcfp"
      }
    },
    {
      "cell_type": "code",
      "source": [
        "df.min()"
      ],
      "metadata": {
        "id": "vL-0CwhLkW4i"
      },
      "execution_count": null,
      "outputs": []
    },
    {
      "cell_type": "markdown",
      "source": [
        "Check if the data has any duplicate values using duplicated(). The sum() gives you the number of duplicate rows in the data frame"
      ],
      "metadata": {
        "id": "dYLWFTwdgLkP"
      }
    },
    {
      "cell_type": "markdown",
      "source": [
        "In order to see the duplicate rows, we can store the duplicated values inside a data frame."
      ],
      "metadata": {
        "id": "RKv3NX2FgQW4"
      }
    },
    {
      "cell_type": "code",
      "source": [
        "duplicate_rows = df[df.duplicated()]\n",
        "duplicate_rows"
      ],
      "metadata": {
        "id": "XlyXvu5ggRyf"
      },
      "execution_count": null,
      "outputs": []
    },
    {
      "cell_type": "markdown",
      "source": [
        "Duplicate values can be removed using drop_duplicates()"
      ],
      "metadata": {
        "id": "Uh-dxfWuinLW"
      }
    },
    {
      "cell_type": "code",
      "source": [
        "data = df.drop_duplicates(ignore_index=True)\n",
        "# ignore_index=True so that the index is relabeled"
      ],
      "metadata": {
        "id": "xhYJ_NmAipc-"
      },
      "execution_count": null,
      "outputs": []
    },
    {
      "cell_type": "markdown",
      "source": [
        "## **4.5-Data Sorting**"
      ],
      "metadata": {
        "id": "KNgEuz_ziGF_"
      }
    },
    {
      "cell_type": "markdown",
      "source": [
        "**df.sort_values()**"
      ],
      "metadata": {
        "id": "LW-f-NiztgGK"
      }
    },
    {
      "cell_type": "markdown",
      "source": [
        "The following code sorts the DataFrame by the A column in ascending order:\n",
        "\n"
      ],
      "metadata": {
        "id": "VLQizPbItotx"
      }
    },
    {
      "cell_type": "code",
      "source": [
        "df.head()"
      ],
      "metadata": {
        "id": "lz07JANjtu6a"
      },
      "execution_count": null,
      "outputs": []
    },
    {
      "cell_type": "code",
      "source": [
        " df = df.sort_values('sex')\n"
      ],
      "metadata": {
        "id": "BlyyYG2rtXxZ"
      },
      "execution_count": null,
      "outputs": []
    },
    {
      "cell_type": "code",
      "source": [
        "df"
      ],
      "metadata": {
        "id": "s3-Z6v-kt1pr"
      },
      "execution_count": null,
      "outputs": []
    },
    {
      "cell_type": "markdown",
      "source": [
        "The following code sorts the DataFrame by the B column in descending order:\n",
        "\n"
      ],
      "metadata": {
        "id": "wPrAwd2Kt9xb"
      }
    },
    {
      "cell_type": "code",
      "source": [
        "df = df.sort_values('sex', ascending=False)\n"
      ],
      "metadata": {
        "id": "InxAZMpHt875"
      },
      "execution_count": null,
      "outputs": []
    },
    {
      "cell_type": "markdown",
      "source": [
        "## **4.6- Inconsistent Data**"
      ],
      "metadata": {
        "id": "teu9rMFKmhCm"
      }
    },
    {
      "cell_type": "code",
      "source": [
        "df.head()"
      ],
      "metadata": {
        "id": "3C_nyEj5CA_2",
        "outputId": "bd03c27b-925f-42c8-ef61-721ed74e0eca",
        "colab": {
          "base_uri": "https://localhost:8080/",
          "height": 206
        }
      },
      "execution_count": null,
      "outputs": [
        {
          "output_type": "execute_result",
          "data": {
            "text/plain": [
              "   survived  pclass     sex   age  sibsp  parch     fare embarked  class  \\\n",
              "0         0       3    male  22.0      1      0   7.2500        S  Third   \n",
              "1         1       1  female  38.0      1      0  71.2833        C  First   \n",
              "2         1       3  female  26.0      0      0   7.9250        S  Third   \n",
              "3         1       1  female  35.0      1      0  53.1000        S  First   \n",
              "4         0       3    male  35.0      0      0   8.0500        S  Third   \n",
              "\n",
              "     who  adult_male deck  embark_town alive  alone  \n",
              "0    man        True  NaN  Southampton    no  False  \n",
              "1  woman       False    C    Cherbourg   yes  False  \n",
              "2  woman       False    C  Southampton   yes   True  \n",
              "3  woman       False    C  Southampton   yes  False  \n",
              "4    man        True    C  Southampton    no   True  "
            ],
            "text/html": [
              "\n",
              "  <div id=\"df-06fa17df-8a49-4284-9a11-77c72cbc6d20\">\n",
              "    <div class=\"colab-df-container\">\n",
              "      <div>\n",
              "<style scoped>\n",
              "    .dataframe tbody tr th:only-of-type {\n",
              "        vertical-align: middle;\n",
              "    }\n",
              "\n",
              "    .dataframe tbody tr th {\n",
              "        vertical-align: top;\n",
              "    }\n",
              "\n",
              "    .dataframe thead th {\n",
              "        text-align: right;\n",
              "    }\n",
              "</style>\n",
              "<table border=\"1\" class=\"dataframe\">\n",
              "  <thead>\n",
              "    <tr style=\"text-align: right;\">\n",
              "      <th></th>\n",
              "      <th>survived</th>\n",
              "      <th>pclass</th>\n",
              "      <th>sex</th>\n",
              "      <th>age</th>\n",
              "      <th>sibsp</th>\n",
              "      <th>parch</th>\n",
              "      <th>fare</th>\n",
              "      <th>embarked</th>\n",
              "      <th>class</th>\n",
              "      <th>who</th>\n",
              "      <th>adult_male</th>\n",
              "      <th>deck</th>\n",
              "      <th>embark_town</th>\n",
              "      <th>alive</th>\n",
              "      <th>alone</th>\n",
              "    </tr>\n",
              "  </thead>\n",
              "  <tbody>\n",
              "    <tr>\n",
              "      <th>0</th>\n",
              "      <td>0</td>\n",
              "      <td>3</td>\n",
              "      <td>male</td>\n",
              "      <td>22.0</td>\n",
              "      <td>1</td>\n",
              "      <td>0</td>\n",
              "      <td>7.2500</td>\n",
              "      <td>S</td>\n",
              "      <td>Third</td>\n",
              "      <td>man</td>\n",
              "      <td>True</td>\n",
              "      <td>NaN</td>\n",
              "      <td>Southampton</td>\n",
              "      <td>no</td>\n",
              "      <td>False</td>\n",
              "    </tr>\n",
              "    <tr>\n",
              "      <th>1</th>\n",
              "      <td>1</td>\n",
              "      <td>1</td>\n",
              "      <td>female</td>\n",
              "      <td>38.0</td>\n",
              "      <td>1</td>\n",
              "      <td>0</td>\n",
              "      <td>71.2833</td>\n",
              "      <td>C</td>\n",
              "      <td>First</td>\n",
              "      <td>woman</td>\n",
              "      <td>False</td>\n",
              "      <td>C</td>\n",
              "      <td>Cherbourg</td>\n",
              "      <td>yes</td>\n",
              "      <td>False</td>\n",
              "    </tr>\n",
              "    <tr>\n",
              "      <th>2</th>\n",
              "      <td>1</td>\n",
              "      <td>3</td>\n",
              "      <td>female</td>\n",
              "      <td>26.0</td>\n",
              "      <td>0</td>\n",
              "      <td>0</td>\n",
              "      <td>7.9250</td>\n",
              "      <td>S</td>\n",
              "      <td>Third</td>\n",
              "      <td>woman</td>\n",
              "      <td>False</td>\n",
              "      <td>C</td>\n",
              "      <td>Southampton</td>\n",
              "      <td>yes</td>\n",
              "      <td>True</td>\n",
              "    </tr>\n",
              "    <tr>\n",
              "      <th>3</th>\n",
              "      <td>1</td>\n",
              "      <td>1</td>\n",
              "      <td>female</td>\n",
              "      <td>35.0</td>\n",
              "      <td>1</td>\n",
              "      <td>0</td>\n",
              "      <td>53.1000</td>\n",
              "      <td>S</td>\n",
              "      <td>First</td>\n",
              "      <td>woman</td>\n",
              "      <td>False</td>\n",
              "      <td>C</td>\n",
              "      <td>Southampton</td>\n",
              "      <td>yes</td>\n",
              "      <td>False</td>\n",
              "    </tr>\n",
              "    <tr>\n",
              "      <th>4</th>\n",
              "      <td>0</td>\n",
              "      <td>3</td>\n",
              "      <td>male</td>\n",
              "      <td>35.0</td>\n",
              "      <td>0</td>\n",
              "      <td>0</td>\n",
              "      <td>8.0500</td>\n",
              "      <td>S</td>\n",
              "      <td>Third</td>\n",
              "      <td>man</td>\n",
              "      <td>True</td>\n",
              "      <td>C</td>\n",
              "      <td>Southampton</td>\n",
              "      <td>no</td>\n",
              "      <td>True</td>\n",
              "    </tr>\n",
              "  </tbody>\n",
              "</table>\n",
              "</div>\n",
              "      <button class=\"colab-df-convert\" onclick=\"convertToInteractive('df-06fa17df-8a49-4284-9a11-77c72cbc6d20')\"\n",
              "              title=\"Convert this dataframe to an interactive table.\"\n",
              "              style=\"display:none;\">\n",
              "        \n",
              "  <svg xmlns=\"http://www.w3.org/2000/svg\" height=\"24px\"viewBox=\"0 0 24 24\"\n",
              "       width=\"24px\">\n",
              "    <path d=\"M0 0h24v24H0V0z\" fill=\"none\"/>\n",
              "    <path d=\"M18.56 5.44l.94 2.06.94-2.06 2.06-.94-2.06-.94-.94-2.06-.94 2.06-2.06.94zm-11 1L8.5 8.5l.94-2.06 2.06-.94-2.06-.94L8.5 2.5l-.94 2.06-2.06.94zm10 10l.94 2.06.94-2.06 2.06-.94-2.06-.94-.94-2.06-.94 2.06-2.06.94z\"/><path d=\"M17.41 7.96l-1.37-1.37c-.4-.4-.92-.59-1.43-.59-.52 0-1.04.2-1.43.59L10.3 9.45l-7.72 7.72c-.78.78-.78 2.05 0 2.83L4 21.41c.39.39.9.59 1.41.59.51 0 1.02-.2 1.41-.59l7.78-7.78 2.81-2.81c.8-.78.8-2.07 0-2.86zM5.41 20L4 18.59l7.72-7.72 1.47 1.35L5.41 20z\"/>\n",
              "  </svg>\n",
              "      </button>\n",
              "      \n",
              "  <style>\n",
              "    .colab-df-container {\n",
              "      display:flex;\n",
              "      flex-wrap:wrap;\n",
              "      gap: 12px;\n",
              "    }\n",
              "\n",
              "    .colab-df-convert {\n",
              "      background-color: #E8F0FE;\n",
              "      border: none;\n",
              "      border-radius: 50%;\n",
              "      cursor: pointer;\n",
              "      display: none;\n",
              "      fill: #1967D2;\n",
              "      height: 32px;\n",
              "      padding: 0 0 0 0;\n",
              "      width: 32px;\n",
              "    }\n",
              "\n",
              "    .colab-df-convert:hover {\n",
              "      background-color: #E2EBFA;\n",
              "      box-shadow: 0px 1px 2px rgba(60, 64, 67, 0.3), 0px 1px 3px 1px rgba(60, 64, 67, 0.15);\n",
              "      fill: #174EA6;\n",
              "    }\n",
              "\n",
              "    [theme=dark] .colab-df-convert {\n",
              "      background-color: #3B4455;\n",
              "      fill: #D2E3FC;\n",
              "    }\n",
              "\n",
              "    [theme=dark] .colab-df-convert:hover {\n",
              "      background-color: #434B5C;\n",
              "      box-shadow: 0px 1px 3px 1px rgba(0, 0, 0, 0.15);\n",
              "      filter: drop-shadow(0px 1px 2px rgba(0, 0, 0, 0.3));\n",
              "      fill: #FFFFFF;\n",
              "    }\n",
              "  </style>\n",
              "\n",
              "      <script>\n",
              "        const buttonEl =\n",
              "          document.querySelector('#df-06fa17df-8a49-4284-9a11-77c72cbc6d20 button.colab-df-convert');\n",
              "        buttonEl.style.display =\n",
              "          google.colab.kernel.accessAllowed ? 'block' : 'none';\n",
              "\n",
              "        async function convertToInteractive(key) {\n",
              "          const element = document.querySelector('#df-06fa17df-8a49-4284-9a11-77c72cbc6d20');\n",
              "          const dataTable =\n",
              "            await google.colab.kernel.invokeFunction('convertToInteractive',\n",
              "                                                     [key], {});\n",
              "          if (!dataTable) return;\n",
              "\n",
              "          const docLinkHtml = 'Like what you see? Visit the ' +\n",
              "            '<a target=\"_blank\" href=https://colab.research.google.com/notebooks/data_table.ipynb>data table notebook</a>'\n",
              "            + ' to learn more about interactive tables.';\n",
              "          element.innerHTML = '';\n",
              "          dataTable['output_type'] = 'display_data';\n",
              "          await google.colab.output.renderOutput(dataTable, element);\n",
              "          const docLink = document.createElement('div');\n",
              "          docLink.innerHTML = docLinkHtml;\n",
              "          element.appendChild(docLink);\n",
              "        }\n",
              "      </script>\n",
              "    </div>\n",
              "  </div>\n",
              "  "
            ]
          },
          "metadata": {},
          "execution_count": 10
        }
      ]
    },
    {
      "cell_type": "code",
      "source": [
        "df['who'].unique()\n"
      ],
      "metadata": {
        "id": "eAirVg3QB4EG",
        "outputId": "fa5ac9eb-fcc9-4dca-8ba4-8d73f3361de2",
        "colab": {
          "base_uri": "https://localhost:8080/"
        }
      },
      "execution_count": null,
      "outputs": [
        {
          "output_type": "execute_result",
          "data": {
            "text/plain": [
              "array(['man', 'woman', 'child'], dtype=object)"
            ]
          },
          "metadata": {},
          "execution_count": 11
        }
      ]
    },
    {
      "cell_type": "code",
      "source": [
        "df['who'] = df['who'].str.lower()\n",
        "df['who'].unique()"
      ],
      "metadata": {
        "id": "vbEfnp0hCNVu",
        "outputId": "e07ee1e4-9f33-4d02-8a8f-8170fc38b64d",
        "colab": {
          "base_uri": "https://localhost:8080/"
        }
      },
      "execution_count": null,
      "outputs": [
        {
          "output_type": "execute_result",
          "data": {
            "text/plain": [
              "array(['man', 'woman', 'child'], dtype=object)"
            ]
          },
          "metadata": {},
          "execution_count": 12
        }
      ]
    },
    {
      "cell_type": "markdown",
      "source": [
        "**Whitespace issues:**"
      ],
      "metadata": {
        "id": "M6TlgUrVP0h8"
      }
    },
    {
      "cell_type": "code",
      "source": [
        "titanic_df['Name'] = titanic_df['Name'].str.strip()\n",
        "titanic_df['Name'].head()"
      ],
      "metadata": {
        "id": "jBereEVXPwAJ"
      },
      "execution_count": null,
      "outputs": []
    },
    {
      "cell_type": "markdown",
      "source": [
        "**Inconsistent spelling:**"
      ],
      "metadata": {
        "id": "UpUgnL2rP5fY"
      }
    },
    {
      "cell_type": "code",
      "source": [
        "# Let's create a column with some inconsistencies for demonstration purposes\n",
        "titanic_df['Embarked'] = titanic_df['Embarked'].replace(['C', 'Q', 'S'], ['cherbourg', 'queenstown', 'southampton'])\n",
        "print(titanic_df['Embarked'].unique())"
      ],
      "metadata": {
        "id": "UN7Mx_DqP_Fs"
      },
      "execution_count": null,
      "outputs": []
    },
    {
      "cell_type": "markdown",
      "source": [
        "**Fix Inconsistent Spelling**"
      ],
      "metadata": {
        "id": "pLyLBwXCQBYM"
      }
    },
    {
      "cell_type": "code",
      "source": [
        "# Standardize 'Embarked' column\n",
        "standardize_mapping = {\n",
        "    'cherbourg': 'Cherbourg',\n",
        "    'queenstown': 'Queenstown',\n",
        "    'southampton': 'Southampton'\n",
        "}\n",
        "titanic_df['Embarked'] = titanic_df['Embarked'].replace(standardize_mapping)\n",
        "print(titanic_df['Embarked'].unique())\n"
      ],
      "metadata": {
        "id": "sGPscxoNQJSG"
      },
      "execution_count": null,
      "outputs": []
    },
    {
      "cell_type": "markdown",
      "source": [
        "# **Section-5 Data Visualization Using Pandas**"
      ],
      "metadata": {
        "id": "2GbwPtoKQjPS"
      }
    },
    {
      "cell_type": "markdown",
      "source": [
        "In the world of data science, visualization is key to understanding and communicating insights. One of the most powerful tools for data visualization in Python is Pandas."
      ],
      "metadata": {
        "id": "sYOaH5ZCQvvW"
      }
    },
    {
      "cell_type": "markdown",
      "source": [
        "### **5.1-Importing Libraries and Loading DataSet**"
      ],
      "metadata": {
        "id": "5hl-r-kzR1rW"
      }
    },
    {
      "cell_type": "code",
      "source": [
        "import pandas as pd\n",
        "import matplotlib.pyplot as plt\n",
        "import seaborn as sns\n",
        "\n",
        "# Load the Titanic dataset\n",
        "titanic= sns.load_dataset('titanic')\n"
      ],
      "metadata": {
        "id": "tgKH-L_wR3pE"
      },
      "execution_count": 3,
      "outputs": []
    },
    {
      "cell_type": "markdown",
      "source": [
        "### **5.2-Basic Plotting with Pandas**"
      ],
      "metadata": {
        "id": "8nT2QVDiSMI6"
      }
    },
    {
      "cell_type": "markdown",
      "source": [
        "Pandas has built-in plotting capabilities using Matplotlib"
      ],
      "metadata": {
        "id": "k-MH6T-bS4Ly"
      }
    },
    {
      "cell_type": "markdown",
      "source": [
        "#### **Line Plot**"
      ],
      "metadata": {
        "id": "XfCNPgRVS41R"
      }
    },
    {
      "cell_type": "markdown",
      "source": [
        "A line plot is useful for visualizing trends over time. Suppose we want to visualize car sales over the years:"
      ],
      "metadata": {
        "id": "tLkMf08gTF19"
      }
    },
    {
      "cell_type": "code",
      "source": [
        "# Plotting average age by passenger class\n",
        "titanic.groupby('pclass')['age'].mean().plot(kind='line', title='Average Age by Passenger Class')\n",
        "plt.xlabel('Passenger Class')\n",
        "plt.ylabel('Average Age')\n",
        "plt.show()"
      ],
      "metadata": {
        "colab": {
          "base_uri": "https://localhost:8080/",
          "height": 472
        },
        "id": "i4KgPXvnTIR3",
        "outputId": "f0938d82-ba45-4153-a187-9637b70803fb"
      },
      "execution_count": 4,
      "outputs": [
        {
          "output_type": "display_data",
          "data": {
            "text/plain": [
              "<Figure size 640x480 with 1 Axes>"
            ],
            "image/png": "[encoded data removed]"
          },
          "metadata": {}
        }
      ]
    },
    {
      "cell_type": "code",
      "source": [
        "titanic['fare'].plot(kind='line', figsize=(10, 6))\n",
        "plt.title('Fare Prices')\n",
        "plt.xlabel('Passenger Index')\n",
        "plt.ylabel('Fare')\n",
        "plt.show()"
      ],
      "metadata": {
        "colab": {
          "base_uri": "https://localhost:8080/",
          "height": 564
        },
        "id": "dV93qMgZTX4g",
        "outputId": "127a2977-4d26-439f-ce7f-42264f0be772"
      },
      "execution_count": 6,
      "outputs": [
        {
          "output_type": "display_data",
          "data": {
            "text/plain": [
              "<Figure size 1000x600 with 1 Axes>"
            ],
            "image/png": "[encoded data removed]"
          },
          "metadata": {}
        }
      ]
    },
    {
      "cell_type": "markdown",
      "source": [
        "#### **Bar Plot**\n",
        "\n",
        "```\n",
        "# This is formatted as code\n",
        "```\n",
        "\n"
      ],
      "metadata": {
        "id": "x0rrXbz_TnZn"
      }
    },
    {
      "cell_type": "markdown",
      "source": [
        "Bar plots are great for comparing categorical data."
      ],
      "metadata": {
        "id": "NycsC_a7Tulq"
      }
    },
    {
      "cell_type": "code",
      "source": [
        "# Plotting the number of survivors vs non-survivors\n",
        "titanic['survived'].value_counts().plot(kind='bar', title='Survival Counts', color=['skyblue', 'salmon'])\n",
        "plt.xlabel('Survived')\n",
        "plt.ylabel('Count')\n",
        "plt.show()\n"
      ],
      "metadata": {
        "colab": {
          "base_uri": "https://localhost:8080/",
          "height": 467
        },
        "id": "0QNLVj9RTtt1",
        "outputId": "4b4ba227-2bd8-4e5d-bbed-a8783347e172"
      },
      "execution_count": 8,
      "outputs": [
        {
          "output_type": "display_data",
          "data": {
            "text/plain": [
              "<Figure size 640x480 with 1 Axes>"
            ],
            "image/png": "[encoded data removed]"
          },
          "metadata": {}
        }
      ]
    },
    {
      "cell_type": "code",
      "source": [
        "# Bar Plot of Passenger Class Distribution\n",
        "titanic_df['pclass'].value_counts().plot(kind='bar', color='skyblue')\n",
        "plt.title('Passenger Class Distribution')\n",
        "plt.xlabel('Class')\n",
        "plt.ylabel('Number of Passengers')\n",
        "plt.show()\n"
      ],
      "metadata": {
        "colab": {
          "base_uri": "https://localhost:8080/",
          "height": 467
        },
        "id": "lMtAKmK-T61m",
        "outputId": "a8054fbb-67ff-4b45-ee15-e536938a2ba7"
      },
      "execution_count": 10,
      "outputs": [
        {
          "output_type": "display_data",
          "data": {
            "text/plain": [
              "<Figure size 640x480 with 1 Axes>"
            ],
            "image/png": "[encoded data removed]"
          },
          "metadata": {}
        }
      ]
    },
    {
      "cell_type": "markdown",
      "source": [
        "#### **Histogram**"
      ],
      "metadata": {
        "id": "0sgdSzeGUHkH"
      }
    },
    {
      "cell_type": "markdown",
      "source": [
        "Histograms are useful for understanding the distribution of a numerical variable."
      ],
      "metadata": {
        "id": "PX5EeF4yULVn"
      }
    },
    {
      "cell_type": "code",
      "source": [
        "# Plotting the distribution of passenger age\n",
        "titanic['age'].plot(kind='hist', title='Distribution of Passenger Age', bins=20, color='skyblue')\n",
        "plt.xlabel('Age')\n",
        "plt.show()"
      ],
      "metadata": {
        "colab": {
          "base_uri": "https://localhost:8080/",
          "height": 472
        },
        "id": "kgosPIvdUUSb",
        "outputId": "3213047c-0f18-48a1-9217-9a130ddfd853"
      },
      "execution_count": 12,
      "outputs": [
        {
          "output_type": "display_data",
          "data": {
            "text/plain": [
              "<Figure size 640x480 with 1 Axes>"
            ],
            "image/png": "[encoded data removed]"
          },
          "metadata": {}
        }
      ]
    },
    {
      "cell_type": "markdown",
      "source": [
        "#### **Scatter Plot**"
      ],
      "metadata": {
        "id": "cIR7isd5UkPV"
      }
    },
    {
      "cell_type": "markdown",
      "source": [
        "Scatter plots help in identifying relationships between two numerical variables"
      ],
      "metadata": {
        "id": "4cBNhnQLUn4b"
      }
    },
    {
      "cell_type": "code",
      "source": [
        "# Plotting the relationship between fare and age\n",
        "titanic.plot(kind='scatter', x='fare', y='age', title='Fare vs Age')\n",
        "plt.xlabel('Fare')\n",
        "plt.ylabel('Age')\n",
        "plt.show()"
      ],
      "metadata": {
        "colab": {
          "base_uri": "https://localhost:8080/",
          "height": 472
        },
        "id": "TnJJnd0fUp2D",
        "outputId": "a687aada-beb6-4a42-d54f-ff63a354de58"
      },
      "execution_count": 13,
      "outputs": [
        {
          "output_type": "display_data",
          "data": {
            "text/plain": [
              "<Figure size 640x480 with 1 Axes>"
            ],
            "image/png": "[encoded data removed]"
          },
          "metadata": {}
        }
      ]
    },
    {
      "cell_type": "markdown",
      "source": [
        "#### **Area Plot**"
      ],
      "metadata": {
        "id": "JrFxFLMgUzfZ"
      }
    },
    {
      "cell_type": "markdown",
      "source": [
        "Area plots are useful for showing cumulative totals over time."
      ],
      "metadata": {
        "id": "2qSNeK31U4Yu"
      }
    },
    {
      "cell_type": "code",
      "source": [
        "# Select numerical columns\n",
        "numerical_cols = ['age', 'fare', 'pclass']\n",
        "\n",
        "# Drop rows with missing values in these columns to avoid plotting issues\n",
        "titanic_numerical = titanic[numerical_cols].dropna()\n",
        "\n",
        "# Create the area plot\n",
        "titanic_numerical.plot.area(alpha=0.5)\n",
        "plt.title('Area Plot of Selected Numerical Features')\n",
        "plt.xlabel('Index')\n",
        "plt.ylabel('Value')\n",
        "plt.show()\n"
      ],
      "metadata": {
        "colab": {
          "base_uri": "https://localhost:8080/",
          "height": 472
        },
        "id": "itPxWRjgU65E",
        "outputId": "bece1c9f-86ae-47c1-9287-d39a6e22e846"
      },
      "execution_count": 21,
      "outputs": [
        {
          "output_type": "display_data",
          "data": {
            "text/plain": [
              "<Figure size 640x480 with 1 Axes>"
            ],
            "image/png": "[encoded data removed]"
          },
          "metadata": {}
        }
      ]
    },
    {
      "cell_type": "markdown",
      "source": [
        "#### **Box Plot**"
      ],
      "metadata": {
        "id": "HlXDU7j2VtEM"
      }
    },
    {
      "cell_type": "markdown",
      "source": [
        "Box plots are useful for showing the distribution of data based on a five-number summary."
      ],
      "metadata": {
        "id": "c3SkIWcTVw2D"
      }
    },
    {
      "cell_type": "code",
      "source": [
        "titanic.plot.box()"
      ],
      "metadata": {
        "colab": {
          "base_uri": "https://localhost:8080/",
          "height": 447
        },
        "id": "NL73S0raV2KN",
        "outputId": "066cba1e-895c-4180-f04f-5ed3f0744a98"
      },
      "execution_count": 22,
      "outputs": [
        {
          "output_type": "execute_result",
          "data": {
            "text/plain": [
              "<Axes: >"
            ]
          },
          "metadata": {},
          "execution_count": 22
        },
        {
          "output_type": "display_data",
          "data": {
            "text/plain": [
              "<Figure size 640x480 with 1 Axes>"
            ],
            "image/png": "[encoded data removed]"
          },
          "metadata": {}
        }
      ]
    },
    {
      "cell_type": "markdown",
      "source": [
        "#### **Hexagonal binning Plot**"
      ],
      "metadata": {
        "id": "u71eJgiwWBHl"
      }
    },
    {
      "cell_type": "markdown",
      "source": [
        "Hexbin plots are useful for visualizing the density of points in a scatter plot"
      ],
      "metadata": {
        "id": "Fh2m3OuiWC1c"
      }
    },
    {
      "cell_type": "code",
      "source": [
        "# Ensure the columns 'Age' and 'Fare' have no missing values for the plot\n",
        "titanic= titanic[['age', 'fare']].dropna()\n",
        "\n",
        "# Create the hexbin plot\n",
        "titanic_df.plot.hexbin(x='age', y='fare', gridsize=30, cmap='viridis')\n",
        "plt.title('Hexbin Plot of Age vs Fare')\n",
        "plt.xlabel('Age')\n",
        "plt.ylabel('Fare')\n",
        "plt.show()\n"
      ],
      "metadata": {
        "colab": {
          "base_uri": "https://localhost:8080/",
          "height": 472
        },
        "id": "zsg_uqlOWLcV",
        "outputId": "dbe50b2f-e012-4ae3-d1aa-9828da077bac"
      },
      "execution_count": 25,
      "outputs": [
        {
          "output_type": "display_data",
          "data": {
            "text/plain": [
              "<Figure size 640x480 with 2 Axes>"
            ],
            "image/png": "[encoded data removed]"
          },
          "metadata": {}
        }
      ]
    }
  ]
}